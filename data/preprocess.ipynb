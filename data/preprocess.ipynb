{
 "metadata": {
  "language_info": {
   "codemirror_mode": {
    "name": "ipython",
    "version": 3
   },
   "file_extension": ".py",
   "mimetype": "text/x-python",
   "name": "python",
   "nbconvert_exporter": "python",
   "pygments_lexer": "ipython3",
   "version": "3.7.9-final"
  },
  "orig_nbformat": 2,
  "kernelspec": {
   "name": "python3",
   "display_name": "Python 3",
   "language": "python"
  }
 },
 "nbformat": 4,
 "nbformat_minor": 2,
 "cells": [
  {
   "cell_type": "code",
   "execution_count": 24,
   "metadata": {},
   "outputs": [],
   "source": [
    "import re\n",
    "from tqdm import tqdm"
   ]
  },
  {
   "cell_type": "code",
   "execution_count": 38,
   "metadata": {},
   "outputs": [],
   "source": [
    "import torch"
   ]
  },
  {
   "cell_type": "code",
   "execution_count": 25,
   "metadata": {},
   "outputs": [],
   "source": [
    "f = open('cl.obo.txt', 'r')"
   ]
  },
  {
   "cell_type": "code",
   "execution_count": 26,
   "metadata": {},
   "outputs": [],
   "source": [
    "content = f.read()"
   ]
  },
  {
   "cell_type": "code",
   "execution_count": 27,
   "metadata": {},
   "outputs": [
    {
     "output_type": "stream",
     "name": "stdout",
     "text": [
      "7091106\n"
     ]
    }
   ],
   "source": [
    "print(len(content))"
   ]
  },
  {
   "cell_type": "code",
   "execution_count": 16,
   "metadata": {},
   "outputs": [],
   "source": [
    "term_blocks = content.split('\\n\\n')"
   ]
  },
  {
   "cell_type": "code",
   "execution_count": 17,
   "metadata": {},
   "outputs": [
    {
     "output_type": "stream",
     "name": "stdout",
     "text": [
      "10038\n"
     ]
    }
   ],
   "source": [
    "print(len(term_blocks))"
   ]
  },
  {
   "cell_type": "code",
   "execution_count": 18,
   "metadata": {},
   "outputs": [
    {
     "output_type": "stream",
     "name": "stdout",
     "text": [
      "[Term]\nid: BFO:0000024\nname: fiat object part\nis_a: BFO:0000040 ! material entity\n"
     ]
    }
   ],
   "source": [
    "print(term_blocks[8])"
   ]
  },
  {
   "source": [
    "## Paring the block to synonym pairs"
   ],
   "cell_type": "markdown",
   "metadata": {}
  },
  {
   "cell_type": "code",
   "execution_count": 19,
   "metadata": {},
   "outputs": [],
   "source": [
    "def parse_block(term_block):\n",
    "    if 'name:' not in term_block:\n",
    "        return None, None\n",
    "    lines = term_block.splitlines()\n",
    "    name = None\n",
    "    synonyms = []\n",
    "    name_regx = 'name: (.*)'\n",
    "    synonym_regx = '\\\"(.*)\\\" (EXACT|RELATED)'\n",
    "    for line in lines:\n",
    "        # Here try to parse the name row\n",
    "        matching_result = re.search(name_regx, line)\n",
    "        if matching_result is not None:\n",
    "            name_new = matching_result.group(1)\n",
    "            if name is None:\n",
    "                name = name_new\n",
    "            elif name_new != name:\n",
    "                print('-' * 100)\n",
    "                print('Multiple lines of name in same block!')\n",
    "                print(term_block)\n",
    "                if name_new not in synonyms:\n",
    "                    print('add new name to synonyms')\n",
    "                    synonyms.append(name_new)\n",
    "            continue\n",
    "        # Here try to parse the synonym row\n",
    "        matching_result = re.search(synonym_regx, line)\n",
    "        if matching_result is not None:\n",
    "            synonym = matching_result.group(1)\n",
    "            relation = matching_result.group(2)\n",
    "            if not synonym:\n",
    "                print('get empty string when parsing synonyms')\n",
    "            if not relation:\n",
    "                print('get empty string for relation')\n",
    "            synonyms.append((synonym, relation))\n",
    "    return name, synonyms"
   ]
  },
  {
   "cell_type": "code",
   "execution_count": 20,
   "metadata": {
    "tags": []
   },
   "outputs": [
    {
     "output_type": "stream",
     "name": "stdout",
     "text": [
      "----------------------------------------------------------------------------------------------------\n",
      "parsing result is none, ignore this block\n",
      "----------------------------------------------------------------------------------------------------\n",
      "Multiple lines of name in same block!\n",
      "[Term]\n",
      "id: GO:0005622\n",
      "name: intracellular\n",
      "name: intracellular anatomical structure\n",
      "def: \"A component of a cell contained within (but not including) the plasma membrane. In eukaryotes it includes the nucleus and cytoplasm.\" [ISBN:0198506732]\n",
      "def: \"The living contents of a cell; the matter contained within (but not including) the plasma membrane, usually taken to exclude large vacuoles and masses of secretory or ingested material. In eukaryotes it includes the nucleus and cytoplasm.\" [ISBN:0198506732]\n",
      "synonym: \"internal to cell\" EXACT []\n",
      "synonym: \"intracellular\" EXACT []\n",
      "synonym: \"nucleocytoplasm\" RELATED [GOC:mah]\n",
      "synonym: \"protoplasm\" EXACT []\n",
      "synonym: \"protoplast\" RELATED [GOC:mah]\n",
      "xref: Wikipedia:Intracellular\n",
      "is_a: GO:0110165 ! cellular anatomical entity\n",
      "add new name to synonyms\n",
      "different blocks contains same data name\n",
      "different blocks contains same data name\n",
      "different blocks contains same data name\n",
      "different blocks contains same data name\n",
      "----------------------------------------------------------------------------------------------------\n",
      "Multiple lines of name in same block!\n",
      "[Typedef]\n",
      "id: BFO:0000050\n",
      "name: part of\n",
      "name: part_of\n",
      "def: \"a core relation that holds between a part and its whole\" []\n",
      "xref: BFO:0000050\n",
      "is_transitive: true\n",
      "is_a: RO:0002131 ! overlaps\n",
      "inverse_of: BFO:0000051 ! has part\n",
      "add new name to synonyms\n",
      "----------------------------------------------------------------------------------------------------\n",
      "Multiple lines of name in same block!\n",
      "[Typedef]\n",
      "id: BFO:0000051\n",
      "name: has part\n",
      "name: has_part\n",
      "def: \"a core relation that holds between a whole and its part\" []\n",
      "def: \"Q1 has_part Q2 if and only if: every instance of Q1 is a quality_of an entity that has_quality some Q2.\" [PATOC:CJM]\n",
      "comment: We use the has_part relation to relate complex qualities to more primitive ones. A complex quality is a collection of qualities. The complex quality cannot exist without the sub-qualities. For example, the quality 'swollen' necessarily comes with the qualities of 'protruding' and 'increased size'.\n",
      "xref: BFO:0000051\n",
      "is_transitive: true\n",
      "is_a: RO:0002131 ! overlaps\n",
      "add new name to synonyms\n",
      "----------------------------------------------------------------------------------------------------\n",
      "Multiple lines of name in same block!\n",
      "[Typedef]\n",
      "id: BFO:0000062\n",
      "name: preceded by\n",
      "name: preceded_by\n",
      "def: \"x is preceded by y if and only if the time point at which y ends is before or equivalent to the time point at which x starts. Formally: x preceded by y iff ω(y) <= α(x), where α is a function that maps a process to a start point, and ω is a function that maps a process to an end point.\" []\n",
      "def: \"X preceded_by Y iff: end(Y) before_or_simultaneous_with start(X)\" []\n",
      "synonym: \"is preceded by\" EXACT [SIO:000249]\n",
      "synonym: \"takes place after\" EXACT [Allen:precedes]\n",
      "xref: BFO:0000062\n",
      "domain: BFO:0000003 ! occurrent\n",
      "range: BFO:0000003 ! occurrent\n",
      "holds_over_chain: BFO:0000050 BFO:0000062\n",
      "is_transitive: true\n",
      "is_a: RO:0002086 ! ends after\n",
      "inverse_of: BFO:0000063 ! precedes\n",
      "add new name to synonyms\n",
      "----------------------------------------------------------------------------------------------------\n",
      "Multiple lines of name in same block!\n",
      "[Typedef]\n",
      "id: RO:0000056\n",
      "name: participates in\n",
      "name: participates_in\n",
      "def: \"a relation between a continuant and a process, in which the continuant is somehow involved in the process\" []\n",
      "xref: RO:0000056\n",
      "domain: BFO:0000002 ! continuant\n",
      "range: BFO:0000003 ! occurrent\n",
      "inverse_of: RO:0000057 ! has participant\n",
      "add new name to synonyms\n",
      "----------------------------------------------------------------------------------------------------\n",
      "Multiple lines of name in same block!\n",
      "[Typedef]\n",
      "id: RO:0001000\n",
      "name: derives from\n",
      "name: derives_from\n",
      "def: \"a relation between two distinct material entities, the new entity and the old entity, in which the new entity begins to exist when the old entity ceases to exist, and the new entity inherits the significant portion of the matter of the old entity\" []\n",
      "xref: RO:0001000\n",
      "is_transitive: true\n",
      "inverse_of: RO:0001001 ! derives into\n",
      "add new name to synonyms\n",
      "----------------------------------------------------------------------------------------------------\n",
      "Multiple lines of name in same block!\n",
      "[Typedef]\n",
      "id: RO:0001015\n",
      "name: location of\n",
      "name: location_of\n",
      "def: \"a relation between two independent continuants, the location and the target, in which the target is entirely within the location\" []\n",
      "xref: RO:0001015\n",
      "is_transitive: true\n",
      "inverse_of: RO:0001025 ! located in\n",
      "add new name to synonyms\n",
      "----------------------------------------------------------------------------------------------------\n",
      "Multiple lines of name in same block!\n",
      "[Typedef]\n",
      "id: RO:0001025\n",
      "name: located in\n",
      "name: located_in\n",
      "def: \"a relation between two independent continuants, the target and the location, in which the target is entirely within the location\" []\n",
      "xref: RO:0001025\n",
      "is_transitive: true\n",
      "transitive_over: BFO:0000050 ! part of\n",
      "add new name to synonyms\n",
      "----------------------------------------------------------------------------------------------------\n",
      "Multiple lines of name in same block!\n",
      "[Typedef]\n",
      "id: RO:0002087\n",
      "name: immediately preceded by\n",
      "name: immediately_preceded_by\n",
      "def: \"X immediately_preceded_by Y iff: end(X) simultaneous_with start(Y)\" []\n",
      "comment: X immediately_preceded_by Y iff: end(X) simultaneous_with start(Y)\n",
      "synonym: \"directly preceded by\" EXACT []\n",
      "synonym: \"is directly preceded by\" EXACT []\n",
      "synonym: \"is immediately preceded by\" EXACT [SIO:000251]\n",
      "synonym: \"starts_at_end_of\" EXACT []\n",
      "xref: RO:0002087\n",
      "is_a: BFO:0000062 ! preceded_by\n",
      "inverse_of: RO:0002090 ! immediately precedes\n",
      "add new name to synonyms\n",
      "----------------------------------------------------------------------------------------------------\n",
      "Multiple lines of name in same block!\n",
      "[Typedef]\n",
      "id: RO:0002160\n",
      "name: only in taxon\n",
      "name: only_in_taxon\n",
      "def: \"S only_in_taxon T iff: S SubClassOf in_taxon only T\" [http://www.ncbi.nlm.nih.gov/pubmed/20973947]\n",
      "def: \"U only_in_taxon T: U is a feature found in only in organisms of species of taxon T. The feature cannot be found in an organism of any species outside of (not subsumed by) that taxon. Down-propagates in U hierarchy, up-propagates in T hierarchy (species taxonomy). Implies applicable_to_taxon.\" [ROC:Waclaw]\n",
      "def: \"x only in taxon y if and only if x is in taxon y, and there is no other organism z such that y!=z a and x is in taxon z.\" []\n",
      "comment: Down-propagates. The original name for this in the paper is 'specific_to'. Applicable to genes because some genes are lost in sub-species (strains) of a species.\n",
      "synonym: \"never_outside_taxon\" EXACT []\n",
      "synonym: \"specific_to\" EXACT []\n",
      "synonym: \"specific_to_taxon\" EXACT []\n",
      "xref: RO:0002160\n",
      "is_a: RO:0002162 ! in taxon\n",
      "add new name to synonyms\n",
      "----------------------------------------------------------------------------------------------------\n",
      "Multiple lines of name in same block!\n",
      "[Typedef]\n",
      "id: RO:0002180\n",
      "name: has component\n",
      "name: has_component\n",
      "def: \"w 'has component' p if w 'has part' p and w is such that it can be directly disassembled into into n parts p, p2, p3, ..., pn, where these parts are of similar type.\" []\n",
      "xref: RO:0002180\n",
      "is_a: BFO:0000051 ! has part\n",
      "add new name to synonyms\n",
      "----------------------------------------------------------------------------------------------------\n",
      "Multiple lines of name in same block!\n",
      "[Typedef]\n",
      "id: RO:0002202\n",
      "name: develops from\n",
      "name: develops_from\n",
      "def: \"x develops from y if and only if either (a) x directly develops from y or (b) there exists some z such that x directly develops from z and z develops from y\" []\n",
      "comment: This is the transitive form of the develops from relation\n",
      "xref: RO:0002202\n",
      "domain: BFO:0000004 ! independent continuant\n",
      "range: BFO:0000004 ! independent continuant\n",
      "holds_over_chain: BFO:0000050 RO:0002202\n",
      "is_transitive: true\n",
      "is_a: RO:0002254 ! has developmental contribution from\n",
      "is_a: RO:0002258 ! developmentally preceded by\n",
      "inverse_of: RO:0002203 ! develops_into\n",
      "transitive_over: BFO:0000050 ! part of\n",
      "add new name to synonyms\n",
      "----------------------------------------------------------------------------------------------------\n",
      "Multiple lines of name in same block!\n",
      "[Typedef]\n",
      "id: RO:0002203\n",
      "name: develops into\n",
      "name: develops_into\n",
      "def: \"inverse of develops from\" []\n",
      "xref: RO:0002203\n",
      "is_transitive: true\n",
      "is_a: RO:0002286 ! developmentally succeeded by\n",
      "is_a: RO:0002387 ! has potential to develop into\n",
      "is_a: RO:0002388 ! has potential to directly develop into\n",
      "add new name to synonyms\n",
      "----------------------------------------------------------------------------------------------------\n",
      "Multiple lines of name in same block!\n",
      "[Typedef]\n",
      "id: RO:0002215\n",
      "name: capable of\n",
      "name: capable_of\n",
      "def: \"A relation between a material entity (such as a cell) and a process, in which the material entity has the ability to carry out the process. \" []\n",
      "xref: RO:0002215\n",
      "domain: BFO:0000004 ! independent continuant\n",
      "range: BFO:0000015 ! process\n",
      "is_a: RO:0002216 ! capable of part of\n",
      "is_a: RO:0002328 ! functionally related to\n",
      "add new name to synonyms\n",
      "----------------------------------------------------------------------------------------------------\n",
      "Multiple lines of name in same block!\n",
      "[Typedef]\n",
      "id: RO:0002220\n",
      "name: adjacent to\n",
      "name: adjacent_to\n",
      "def: \"x adjacent to y if and only if x and y share a boundary.\" []\n",
      "def: \"x adjacent_to y iff: x and y share a boundary\" []\n",
      "xref: RO:0002220\n",
      "domain: BFO:0000004 ! independent continuant\n",
      "range: BFO:0000004 ! independent continuant\n",
      "is_symmetric: true\n",
      "is_a: RO:0002163 ! spatially disjoint from\n",
      "add new name to synonyms\n",
      "----------------------------------------------------------------------------------------------------\n",
      "Multiple lines of name in same block!\n",
      "[Typedef]\n",
      "id: RO:0002255\n",
      "name: developmentally contributes to\n",
      "name: developmentally_contributes_to\n",
      "def: \"inverse of has developmental contribution from\" []\n",
      "xref: RO:0002255\n",
      "holds_over_chain: RO:0002203 BFO:0000050\n",
      "is_a: RO:0002286 ! developmentally succeeded by\n",
      "is_a: RO:0002385 ! has potential to developmentally contribute to\n",
      "add new name to synonyms\n",
      "----------------------------------------------------------------------------------------------------\n",
      "Multiple lines of name in same block!\n",
      "[Typedef]\n",
      "id: RO:0003001\n",
      "name: produced by\n",
      "name: produced_by\n",
      "def: \"a produced_by b iff some process that occurs_in b has_output a.\" []\n",
      "xref: RO:0003001\n",
      "domain: BFO:0000040 ! material entity\n",
      "range: BFO:0000040 ! material entity\n",
      "add new name to synonyms\n",
      "----------------------------------------------------------------------------------------------------\n",
      "parsing result is none, ignore this block\n"
     ]
    }
   ],
   "source": [
    "data_dict = {}\n",
    "block_ignored = []\n",
    "for term_block in term_blocks:\n",
    "    name, synonym_list = parse_block(term_block)\n",
    "    if name is None or synonym_list is None:\n",
    "        print('-' * 100)\n",
    "        print('parsing result is none, ignore this block')\n",
    "        block_ignored.append(term_block)\n",
    "        continue\n",
    "    if name in data_dict:\n",
    "        print('different blocks contains same data name')\n",
    "    data_dict[name] = synonym_list"
   ]
  },
  {
   "cell_type": "code",
   "execution_count": 21,
   "metadata": {},
   "outputs": [
    {
     "output_type": "stream",
     "name": "stdout",
     "text": [
      "10032\n2\n"
     ]
    }
   ],
   "source": [
    "print(len(data_dict))\n",
    "print(len(block_ignored))"
   ]
  },
  {
   "cell_type": "code",
   "execution_count": 35,
   "metadata": {},
   "outputs": [],
   "source": [
    "import spacy\n",
    "import string\n",
    "\n",
    "# Declare special word/character.\n",
    "START_W = '<w>'\n",
    "END_W = '</w>'\n",
    "START_S = '<s>'\n",
    "END_S = '</s>'\n",
    "DICT_SW = '</dsw>'\n",
    "EOL_TK = '»'\n",
    "UNK = '</unk>'\n",
    "PAD = '</pad>'\n",
    "RESERVE_TKS = [START_W, END_W, START_S, END_S, DICT_SW, UNK, PAD, EOL_TK]\n",
    "\n",
    "PUCT_SET = set(string.punctuation)\n",
    "STOP_WORDS = set(['an', 'the', 'and', 'of', 'in', 'on', 'at',\n",
    "                  'other', 'others', 'The', 'nos', 'NOS'])\n",
    "STOP_TOKENS = STOP_WORDS | PUCT_SET\n",
    "\n",
    "spacy_model = spacy.load(\"en_core_web_sm\")\n",
    "\n",
    "\n",
    "def preprocess_name(name):\n",
    "    parsed_result = spacy_model(name, disable=['parser', 'tagger', 'ner'])\n",
    "    tokens = [str(_) for _ in parsed_result]\n",
    "    tokens = [_ for _ in tokens if _.strip() != '' and _.lower() not in STOP_TOKENS]\n",
    "    new_name = ' '.join(tokens)\n",
    "    return name.lower() if new_name == '' else new_name.lower()"
   ]
  },
  {
   "cell_type": "code",
   "execution_count": 36,
   "metadata": {
    "tags": []
   },
   "outputs": [],
   "source": [
    "all_words = set()\n",
    "punct = '!(),'\n",
    "for name, synos in data_dict.items():\n",
    "    all_words.update(preprocess_name(name).split())\n",
    "    for syno in synos:\n",
    "        all_words.update(preprocess_name(syno[0]).split())"
   ]
  },
  {
   "cell_type": "code",
   "execution_count": 37,
   "metadata": {
    "tags": []
   },
   "outputs": [
    {
     "output_type": "stream",
     "name": "stdout",
     "text": [
      "6422\n"
     ]
    }
   ],
   "source": [
    "print(len(all_words))"
   ]
  },
  {
   "cell_type": "code",
   "execution_count": 43,
   "metadata": {},
   "outputs": [],
   "source": [
    "def load_pretrained_we(file_name, word_set=None):\n",
    "    print('Read pretrained embeddings from {}.'.format(file_name))\n",
    "    dim = None\n",
    "    emb_dict = {}\n",
    "    with open(file_name, encoding='utf8') as f:\n",
    "        for line in tqdm(f):\n",
    "            if len(line) < 20:\n",
    "                continue\n",
    "\n",
    "            k = line.find('\\t')\n",
    "            if k == -1:\n",
    "                k = line.find(' ')\n",
    "            assert k > -1\n",
    "\n",
    "            line = line.strip()\n",
    "            if word_set is None or line[:k] in word_set:\n",
    "                values = line.split()\n",
    "                if dim is None:\n",
    "                    dim = len(values) - 1\n",
    "                else:\n",
    "                    assert len(values) == dim + 1\n",
    "                w = values[0]\n",
    "                if word_set is None or w in word_set:\n",
    "                    v = [float(_) for _ in values[-dim:]]\n",
    "                    emb_dict[w] = v\n",
    "    return emb_dict"
   ]
  },
  {
   "cell_type": "code",
   "execution_count": 44,
   "metadata": {},
   "outputs": [
    {
     "output_type": "stream",
     "name": "stderr",
     "text": [
      "0it [00:00, ?it/s]Read pretrained embeddings from ./BioEmb/Emb_SGw.txt.\n",
      "1650582it [00:04, 331236.36it/s]\n"
     ]
    }
   ],
   "source": [
    "fn = './BioEmb/Emb_SGw.txt'\n",
    "embed_dict = load_pretrained_we(fn, all_words)"
   ]
  },
  {
   "cell_type": "code",
   "execution_count": 45,
   "metadata": {},
   "outputs": [
    {
     "output_type": "stream",
     "name": "stdout",
     "text": [
      "5723\n6422\n"
     ]
    }
   ],
   "source": [
    "print(len(embed_dict))\n",
    "print(len(all_words))"
   ]
  },
  {
   "cell_type": "code",
   "execution_count": 29,
   "metadata": {},
   "outputs": [
    {
     "output_type": "stream",
     "name": "stdout",
     "text": [
      "0.8911554033011523\n"
     ]
    }
   ],
   "source": []
  },
  {
   "cell_type": "code",
   "execution_count": 53,
   "metadata": {
    "tags": []
   },
   "outputs": [
    {
     "output_type": "stream",
     "name": "stdout",
     "text": [
      "tetraspanin-29\nhas_gene_template\ngmlp\nlamé\nvestibulocochlearis\ngr1-high\naromatische\ndc.4\natomkern\nventrc\nvesiculæ\ncavitus\nneurofibrarum\nt.8sp24int\nciliarus\nt(h)-22\nmultigutturalis\nsomited\ninterlobulary\ncd11c+cd123-\nfcer2a\nbranching_part_of\npharyngeae\nretinachoroid\nforamina@fr\nprecementoblast\nerythoblast\nhly9-beta\nr3g1\ngerminosum\ncuboideometatarsal\ncoelemic\npremacula\nmusculari\ndevelops_in\ncd217-positive\nsystematis\nkohlenstoff\ndeferen\nlymporeticular\nchalcogene\ngenicularum\nmf.bm\natrabiliary\nbrustdruese\ndn2b\nv(pre)b\nt.dp69+.th\npreenamel\nnkp46-positive\nadventitia)(venae\ncoeruleu\nmacrophagocytus\nchordablast\npret.etp.th\nhidrogeno\nckr-7\npurkinji\nmüller\nbeta7-high\ncolligens\ndevelops_from_part_of\nhypercoracocïde@fr\nvdelta6.3-positive\nmetanephron\nprotein_coding\nmetales\nhaemopoietica\nopistonephros\nneuaral\ncleidooccipital\nnk.g2a+.sp\npilosebacea\ngranuloblast\nadventitia)(arteriae\npropulsus\nlyt10\nsplen)(lien\nnematoblast\nperiperhal\nirx-6\nky411\nparathyoid\natomo\nin_lateral_side_of\natmungssystem\ndc.103\nmf.microglia\nleucoblast\ncd159\npreaxialmost_part_of\n11b+.lv\nbcl-5\ngefaesssystem@de\nneuracanthe@fr\nnervosi\nplexifome\nmetapodi\ngr1-low\ninterfollicle\nklra8\nmds.gr1lo\ninterphalangeae\nfb22\ncd42-negative\nt4.mem\ndesmodontium\ncamerae\ndipnotetrapodomorpha\nilt-7\nanterior_to\nnkt.44-nk1.1-.th\nsekeletal\ndx5-negative\ncd56-low\ninnomiate\nplasmactyoid\nmesoepithelium\ngd27-positive\ndirectly_develops_from\nnk.49cl-94-.sp\nfäkalien@de\nvertébral@fr\ncd27-low\nhas_muscle_insertion\nhas_low_plasma_membrane_amount\nperiphrenic\npret.dn1.th\nmegalocaryocyte\ncyanophore\nccr6-negative\nklra3\nneuromaste\ntesicularis\nurinarium\ndigitipedis\nlaminet-1\nslamf1-negative\nstiftchenzellen\nlimbique\nmyocytus\nhaemopoieticus\norgansystem@de\nly-76\nmacrogliocyte\ncd103-negative\nb220+cd38\nvgamma2-negative\ndigitopodium\nt.dn4.th\nt.4int8+.th\nsudorifera\nly-52\ncd16-low\nomatidium\ncristallogene\nmyrinx\nmdr-15\nepitrichium\nlactiferi\nguanophore\nepicranius\ncd265\ndevelopmentally_induced_by\nmuskelsystem\nnukleonen\nchannels_into\nirxb3\nmf.ln\nlarua\njuxtaglomerulus\nt.8sp24-.th\nbhlha17\nmcd8alpha\ncd185\nbilaminary\nopisto\nhbaz\npolocytus\ncristallogenes\nderiviative\nexocrina\nbowman`s\ndecreased_in_magnitude_relative_to\ndc.sirpa-.ad\ngangliated\nsomatrophic\nr13-ag\ncxcr3-negative\nh2-ie\nepinephros\nmcp-1-r\nhomologous_to\ncdw125\nthromboblast\nchemr13\nperilymphaticus\ngprcy4\nvgamma2-positive\nsignal_peptide\nmesenchephalon\nneuralis\nposterior_to\ncoelem\npaxwax\nintima)(venae\nckr-6\nin_left_side_of\nfemininum\nperilymphatica\nacropodial\nt(h)-9\nsuperficial_to\ncd8_alpha\nstarts_at_end_of\ncarbonoides\nbasipodium\np44-related\nfécales@fr\npebp2-alpha\npostmacula\nnkp44-negative\ngefaesssystem\nattaches_to\nbiliaropancreatic\nimmunomediatory\ninternorum\nseromucus\nunigutturalis\nhaemolymphoid\nepitheilium\ncaritis\nsphenoidum\ntgd.vg5-.iel\nmtrp3\nadremergic\natomi\nneurale@fr\nintersects_midsagittal_plane_of\ndevelopmentally_replaces\nrubriblast\nadrenalis\ndendrocranium\ngeschlechtsorgan\nanorganische\nbiliferi\ncyatocïde@fr\nly-6c2\nhas_not_completed\nalpha-1,4-n\nlymhpoid\nhnkp46\ntarsophalangeal\nnasenrachenraum\nsenusoidal\nx62\ncd194\nhm145\nnk.49cl+94+.sp\nketole\ntracheocyte\nmo.6c+ii\nwasserstoff\ncd42-positive\nthele\ntmed1\nendocrinum\ncd115-positive\ndc.8\nnebenhoden@de\nhauptgruppenelement\niridoblast\nepipodium\ntrabeculocyte\ngardiac\ngalanergic\nadipocytus\nbiological_process\nnk.49cl-.sp\nklra4\nintertarsale\noxigeno\ndifferent_in_magnitude_relative_to\nexocranium\nly49ci\ntalalactoferrin\nepiniphrine\nsexually_homologous_to\np46-related\nmnkp46\nhas_quality\ninterhemispherica\npneuomgastric\ncurral\nmasculinum\ncd94-positive\nstirnorgan\n6a-2/6e-1\nalobate\npronephron\narectores\ngonadtroph\nmultifate\nalveolocyte\nprorubricyte\nmerde@fr\narcocentrum\nenrythroblast\nbegins_to_exist_during\ninteralveolare\nmf.f480+.ad\nscribiform\noesophageae\ncd16-mdc\notb7\nconarium\n–\nblastconidium\ncd71-negative\nsv-40-induced\ngastris\nimmediate_transformation_of\nctsgl1\nslamf1-positive\nmüllerian\npret.dn3.th\ndivisio\npromegacaryocyte\nimmediately_superficial_to\nreniculus\nly-55c\ngonada\nt.4sp69+.th\nventral_to\near4\nintima)(arteriae\ncalcogeno\ncleaved_peptide_region\nexternorum\nnkg2-b\nhindneck\nperipherici\ndc.pdc.8-\nepencephalon-2\nepimere\nleptomemingeal\nmf.autofl\ncrurotarsal\nneurofibrum\natriovetricular\nneuroepidermoblast\ntransitinal\ncdw128b\nretinachoroidal\ncorneale\nmesogastium\nproximalmost_part_of\nchalkogen\npret.dn2.th\ndruese\ncd56-bright\ntgd.vg5+.iel\nextremitaet\nlambda-5\nimmediately_deep_to\nnk.49d-.sp\nt.dpb\ncytotrophloblast\ngranzyme-2\nchalkogene\ngustatorius\ngammadelta27-positive\nnk.49cl+.sp\npseudostratificatum\nvg1.1+vd6.3\nbm3-delta\nvd6.3-negative\ndc.11closer\ncd161-positive\nly-6g.1\ncd303-positive\nkiemenspalten\nreissners\ncellular_component\ncollagenosus\nverterba\nolfactus\nil17rh1\nin_right_side_of\nconnectivus\nnerve/\ncaerulean\nrenculus\nadenohypophyseos\nspongioblast\nzygomaticotemporalis\nhas_muscle_origin\nprenk\ncyanoblast\nacropodium\ngastricum\nprotein_coding_gene\nmaculs\nrespiratorius\ncorneæ\nsurrounded_by\nosteochondroclast\np24gamma1\nnukleon\notolymph\nsuperficiel@fr\nmegalokaryocyte\nly76\nin_distal_side_of\ncollenchymal\nosseae\nintrafusalis\nhyocïde@fr\nscapulocoracoideum\nporción\npelvoureteric\nmetapodium\ncd38+b220\nin_anterior_side_of\nsebaceae\nbm2-prime\ncyclase/2'-phospho\ntrunk_part_of\nvgamma5-positive\nly-75\nherz@de\nnocireceptor\nmoleculaire\nodontoperiosteum\nvg1.1-positive\nin_dorsal_side_of\nnk.94+.sp\nhm89\ndry6\nkoerper\nhtrp-3\nvdelta6.3-negative\nnasomedial\nooblast\nsternooccipital\ntalocruralis\nhas_high_plasma_membrane_amount\nlyh49h\nmf.lu\nzeudopodium\nshankbone\ngonecyst\nsphénocïde@fr\nil-17er\nt.4sp24-.th\nnk.49d+.sp\nt.isp.th\ncd1d.1\npremyelocyte\nderecho@es\nhas_completed\nnkp44-positive\nceases_to_exist_during\nly-37\nvasculatis\nkomplexauge\nhas_relative_magnitude\nt.8sp69+.th\nzusammengesetztes\nimmatuer\nlocated_sequence_feature\nblindgut\npea2-alpha\nizquierdo@es\nproximal_to\nchannels_from\nglandanterior\ncd249\nincreased_in_magnitude_relative_to\nhumerosensory\nanfigenos\nlaryngeales\nmatières\nperilympha\nlecam1\ntastebud\nctxpl\nchromatocyte\nscleroblast\nmyofibra\nmolecular_function\nadrenotropin\nblutbildungssystem\nmds.gr1hi\nprotoneuromast\nneurohypohysial\ncd179\nsinusoideum\nmetaux\nmegacaryoblast\nsphincter%2c\nchrondoplast\nly-68\ntactition\ncontinuous_with\nganglionicum\ndeep_to\nplasmidotrophoblast\nwassman\nb220-low\nendoepithelium\nat591\niridocornealis\nnichtmetall\ndeltoideum\ndorsali\ncdw93\ncd94-negative\ntblym\nodontosis\nctla-4-like\nentite\nglomerularal\npérichorde@fr\nlacks_part\nnpyrl\nclec13b\nccr1/3/1l\nlieberkühn\nlimbbud\ndirect_transformation_of\noutput_of\ntransitionale\nhas_muscle_antagonist\nin_proximal_side_of\ncd38-high\nchondocranium\nt.4sp24int\nmbeta1\nmierda@es\nin_posterior_side_of\nentitaet\ncd71-low\nextrafusalis\nmetepencephalon\nmagenschleimhaut\nsiglecf\nneuroplacodal\ndc.8+.th\nvgamma1.1-positive\ndesmoskeleton\nscapulæ\nmyoepitheliocyte\nsinnesorgan\narchinephron\novigerm\nforamens@fr\nmyocoele\ndistalmost_part_of\ncsf-1-r\npsalterial\ncd4-intermediate\nstratificatum\nhepaticobiliary\nzygopod\ntributary_of\nhypercoracocïdeum@fr\nbranchi\ncalcogenos\nly6c2\nklra1\nfrom_normal\nlaz-3\ngammadelta-17\népine\namelocyte\ngranulosoluteocytus\nmo.6c\nnkr2b4\nspecific_to_taxon\nneurecto\ncd369\ntbr-2\nkehlkopf@de\nsympatheticum\ncdw128a\nstomatodaeum\nin_deep_part_of\ncheiropterygium\nsustentaculocyte\nnoncornificatum\nlacks_plasma_membrane_part\ncd141-positive\nepencephalon-1\ncd8-intermediate\narthopoda\nconchosphénocïde@fr\nanfigeno\nnk.94-.sp\nfacettenauge\nextends_fibers_into\nhauptgruppenelemente\nhyperglossal\nnetzhaut\nsequence_feature\nattaches_to_part_of\ntspan-29\nt.4nve\nblastosphere\nhistaminocyte\nfragmentin-2\ngp90-mel\ntrilaminaris\nskelettsystem\ncd27-high\nxanthoblast\nmereotopologically\nbetweenbrain\nphaeochromocyte\ninnervated_by\nscapula@fr\nhyal@fr\nnever_outside_taxon\nsubsantia\ndigitopodial\nnichtmetalle\ncd56-dim\ndopamanergic\nnodalis\nperitonaeum\ncardionector\ncoat/\nvgamma5-negative\ntp24\nchalcogenes\nindirectly_supplies\nmesopod\nkbf2\npredigit\ncd200rlb\npneumaticum\n11b-.lv\nmolekuel\nigl-5\nodontogeny\nhas_cross_section\nexcretorius\ndc.8-.th\ntransitively_connected\nklrb1c\ngp32/28\ncd191\nintertarseae\nepinephric\nauxillery\niiint\nsegmentorum\nmesenchyne\nsuperelliptic\nconducens\nnkga2-positive\nklrb1-like\nbu63\ndc.sirpa+.ad\nbowmanb%s\nautonomica\nmsirp\nmesogaster\nmesotheliocyte\nbeta-1-globin\natomico\nodontocyte\ndorsal_to\nblepharon\nnk.sp\nt.8mem\nphalangis\nlymphoideus\nurogenitalsystem\nmo.6c+ii-\ndermol\nspecific_to\ndistal_to\nil-2-ra\nciliatedness\niltif\ncartiligionous\nt.dp.sm\nsigpep-\ngalgp\nseminales\ncd38-low\ncdw197\npeactin\nparamesonephricus\nhautsystem@de\nhind_digit\nbindegewebe\ndc.pdc.8\n"
     ]
    }
   ],
   "source": [
    "for word in all_words:\n",
    "    if not embed_dict.get(word):\n",
    "        print(word)"
   ]
  },
  {
   "source": [
    "## Pickle the data and embedding used for training"
   ],
   "cell_type": "markdown",
   "metadata": {}
  },
  {
   "cell_type": "code",
   "execution_count": 60,
   "metadata": {
    "tags": []
   },
   "outputs": [],
   "source": [
    "import pickle\n",
    "with open('embeddings.pickle','wb') as fe_data_file:\n",
    "     pickle.dump(embed_dict, fe_data_file)"
   ]
  },
  {
   "cell_type": "code",
   "execution_count": 59,
   "metadata": {},
   "outputs": [
    {
     "output_type": "stream",
     "name": "stdout",
     "text": [
      "5723\n"
     ]
    }
   ],
   "source": [
    "print(len(embed_dict))"
   ]
  },
  {
   "cell_type": "code",
   "execution_count": 61,
   "metadata": {},
   "outputs": [],
   "source": [
    "with open('embeddings.pickle','rb') as fe_data_file:\n",
    "     dict_load_back = pickle.load(fe_data_file)"
   ]
  },
  {
   "cell_type": "code",
   "execution_count": 70,
   "metadata": {},
   "outputs": [],
   "source": [
    "def isSub(dict1, dict2):\n",
    "    for key, value in dict1.items():\n",
    "        if dict2[key] != dict1[key]:\n",
    "            return false\n",
    "    return True"
   ]
  },
  {
   "cell_type": "code",
   "execution_count": 71,
   "metadata": {},
   "outputs": [
    {
     "output_type": "stream",
     "name": "stdout",
     "text": [
      "True\n"
     ]
    }
   ],
   "source": [
    "print(isSub(embed_dict, dict_load_back))"
   ]
  },
  {
   "cell_type": "code",
   "execution_count": 73,
   "metadata": {},
   "outputs": [],
   "source": [
    "with open('data.pickle','wb') as fe_data_file:\n",
    "     dict_load_back = pickle.dump(data_dict, fe_data_file)"
   ]
  },
  {
   "cell_type": "code",
   "execution_count": 6,
   "metadata": {},
   "outputs": [
    {
     "output_type": "stream",
     "name": "stdout",
     "text": [
      "[1, 2, 3, 4, 5, 6]\n"
     ]
    }
   ],
   "source": [
    "a = [[1, 2], [3, 4], [5 ,6]]\n",
    "print([number for l in a for number in l])"
   ]
  },
  {
   "cell_type": "code",
   "execution_count": 21,
   "metadata": {},
   "outputs": [],
   "source": [
    "import itertools\n",
    "import random\n",
    "def generate_data(syno_sets):\n",
    "    name1_list = []\n",
    "    name2_list = []\n",
    "    label_list = []\n",
    "    for syno_set in syno_sets:\n",
    "        for name1, name2 in itertools.product(syno_set, repeat=2):\n",
    "            name1_list.append(name1)\n",
    "            name2_list.append(name2)\n",
    "            label_list.append(1)\n",
    "        non_synonym_sets = random.sample([ x for x in syno_sets if x != syno_set], 3)\n",
    "        non_synonym_list = [phrase for phrases in non_synonym_sets for phrase in phrases]\n",
    "        for name1, name2 in itertools.product(syno_set, non_synonym_list):\n",
    "            name1_list.append(name1)\n",
    "            name2_list.append(name2)\n",
    "            label_list.append(0)    \n",
    "    return {'name1': name1_list, 'name2': name2_list, 'label': label_list}\n"
   ]
  },
  {
   "cell_type": "code",
   "execution_count": 8,
   "metadata": {},
   "outputs": [
    {
     "output_type": "execute_result",
     "data": {
      "text/plain": [
       "   name1  name2  label\n",
       "0      1      1      1\n",
       "1      1      2      1\n",
       "2      2      1      1\n",
       "3      2      2      1\n",
       "4      1      3      0"
      ],
      "text/html": "<div>\n<style scoped>\n    .dataframe tbody tr th:only-of-type {\n        vertical-align: middle;\n    }\n\n    .dataframe tbody tr th {\n        vertical-align: top;\n    }\n\n    .dataframe thead th {\n        text-align: right;\n    }\n</style>\n<table border=\"1\" class=\"dataframe\">\n  <thead>\n    <tr style=\"text-align: right;\">\n      <th></th>\n      <th>name1</th>\n      <th>name2</th>\n      <th>label</th>\n    </tr>\n  </thead>\n  <tbody>\n    <tr>\n      <th>0</th>\n      <td>1</td>\n      <td>1</td>\n      <td>1</td>\n    </tr>\n    <tr>\n      <th>1</th>\n      <td>1</td>\n      <td>2</td>\n      <td>1</td>\n    </tr>\n    <tr>\n      <th>2</th>\n      <td>2</td>\n      <td>1</td>\n      <td>1</td>\n    </tr>\n    <tr>\n      <th>3</th>\n      <td>2</td>\n      <td>2</td>\n      <td>1</td>\n    </tr>\n    <tr>\n      <th>4</th>\n      <td>1</td>\n      <td>3</td>\n      <td>0</td>\n    </tr>\n  </tbody>\n</table>\n</div>"
     },
     "metadata": {},
     "execution_count": 8
    }
   ],
   "source": [
    "import pandas as pd\n",
    "\n",
    "pd.DataFrame.from_dict(generate_data(a)).head()"
   ]
  },
  {
   "cell_type": "code",
   "execution_count": 31,
   "metadata": {},
   "outputs": [
    {
     "output_type": "stream",
     "name": "stderr",
     "text": [
      "100%|██████████| 10032/10032 [00:00<00:00, 12201.28it/s]\n"
     ]
    }
   ],
   "source": [
    "import pickle\n",
    "from tqdm import tqdm\n",
    "\n",
    "with open('data.pickle', 'rb') as data_file:\n",
    "    data = pickle.load(data_file)\n",
    "\n",
    "synonym_groups = []\n",
    "for name, synonyms in tqdm(data.items()):\n",
    "    group = [preprocess_name(synonym[0]) for synonym in synonyms]\n",
    "    group.append(preprocess_name(name))\n",
    "    synonym_groups.append(group)\n",
    "\n",
    "df_data = pd.DataFrame.from_dict(generate_data(synonym_groups))"
   ]
  },
  {
   "cell_type": "code",
   "execution_count": 32,
   "metadata": {},
   "outputs": [
    {
     "output_type": "execute_result",
     "data": {
      "text/plain": [
       "228830"
      ]
     },
     "metadata": {},
     "execution_count": 32
    }
   ],
   "source": [
    "len(df_data[df_data['label'] == 1])"
   ]
  },
  {
   "cell_type": "code",
   "execution_count": 34,
   "metadata": {},
   "outputs": [],
   "source": [
    "df_data.to_csv('pairwise_data.csv', index = False)"
   ]
  },
  {
   "cell_type": "code",
   "execution_count": 35,
   "metadata": {},
   "outputs": [
    {
     "output_type": "execute_result",
     "data": {
      "text/plain": [
       "        name1                         name2  label\n",
       "0  continuant                    continuant      1\n",
       "1  continuant                   promonocyte      0\n",
       "2  continuant             acropodium wagner      0\n",
       "3  continuant           digitopodium region      0\n",
       "4  continuant  extraembryonic venous system      0"
      ],
      "text/html": "<div>\n<style scoped>\n    .dataframe tbody tr th:only-of-type {\n        vertical-align: middle;\n    }\n\n    .dataframe tbody tr th {\n        vertical-align: top;\n    }\n\n    .dataframe thead th {\n        text-align: right;\n    }\n</style>\n<table border=\"1\" class=\"dataframe\">\n  <thead>\n    <tr style=\"text-align: right;\">\n      <th></th>\n      <th>name1</th>\n      <th>name2</th>\n      <th>label</th>\n    </tr>\n  </thead>\n  <tbody>\n    <tr>\n      <th>0</th>\n      <td>continuant</td>\n      <td>continuant</td>\n      <td>1</td>\n    </tr>\n    <tr>\n      <th>1</th>\n      <td>continuant</td>\n      <td>promonocyte</td>\n      <td>0</td>\n    </tr>\n    <tr>\n      <th>2</th>\n      <td>continuant</td>\n      <td>acropodium wagner</td>\n      <td>0</td>\n    </tr>\n    <tr>\n      <th>3</th>\n      <td>continuant</td>\n      <td>digitopodium region</td>\n      <td>0</td>\n    </tr>\n    <tr>\n      <th>4</th>\n      <td>continuant</td>\n      <td>extraembryonic venous system</td>\n      <td>0</td>\n    </tr>\n  </tbody>\n</table>\n</div>"
     },
     "metadata": {},
     "execution_count": 35
    }
   ],
   "source": [
    "read_data = pd.read_csv('pairwise_data.csv')\n",
    "read_data.head()"
   ]
  },
  {
   "cell_type": "code",
   "execution_count": 36,
   "metadata": {},
   "outputs": [
    {
     "output_type": "execute_result",
     "data": {
      "text/plain": [
       "        name1                         name2  label\n",
       "0  continuant                    continuant      1\n",
       "1  continuant                   promonocyte      0\n",
       "2  continuant             acropodium wagner      0\n",
       "3  continuant           digitopodium region      0\n",
       "4  continuant  extraembryonic venous system      0"
      ],
      "text/html": "<div>\n<style scoped>\n    .dataframe tbody tr th:only-of-type {\n        vertical-align: middle;\n    }\n\n    .dataframe tbody tr th {\n        vertical-align: top;\n    }\n\n    .dataframe thead th {\n        text-align: right;\n    }\n</style>\n<table border=\"1\" class=\"dataframe\">\n  <thead>\n    <tr style=\"text-align: right;\">\n      <th></th>\n      <th>name1</th>\n      <th>name2</th>\n      <th>label</th>\n    </tr>\n  </thead>\n  <tbody>\n    <tr>\n      <th>0</th>\n      <td>continuant</td>\n      <td>continuant</td>\n      <td>1</td>\n    </tr>\n    <tr>\n      <th>1</th>\n      <td>continuant</td>\n      <td>promonocyte</td>\n      <td>0</td>\n    </tr>\n    <tr>\n      <th>2</th>\n      <td>continuant</td>\n      <td>acropodium wagner</td>\n      <td>0</td>\n    </tr>\n    <tr>\n      <th>3</th>\n      <td>continuant</td>\n      <td>digitopodium region</td>\n      <td>0</td>\n    </tr>\n    <tr>\n      <th>4</th>\n      <td>continuant</td>\n      <td>extraembryonic venous system</td>\n      <td>0</td>\n    </tr>\n  </tbody>\n</table>\n</div>"
     },
     "metadata": {},
     "execution_count": 36
    }
   ],
   "source": [
    "df_data.head()"
   ]
  },
  {
   "cell_type": "code",
   "execution_count": 2,
   "metadata": {},
   "outputs": [],
   "source": [
    "from collections import Counter\n",
    "counter = Counter()\n",
    "counter.update(['first', 'last'])"
   ]
  },
  {
   "cell_type": "code",
   "execution_count": 3,
   "metadata": {},
   "outputs": [
    {
     "output_type": "stream",
     "name": "stdout",
     "text": [
      "Counter({'first': 1, 'last': 1})\n"
     ]
    }
   ],
   "source": [
    "print(counter)"
   ]
  },
  {
   "cell_type": "code",
   "execution_count": 4,
   "metadata": {},
   "outputs": [],
   "source": [
    "counter.update(['second', 'third'])"
   ]
  },
  {
   "cell_type": "code",
   "execution_count": 5,
   "metadata": {},
   "outputs": [
    {
     "output_type": "stream",
     "name": "stdout",
     "text": [
      "Counter({'first': 1, 'last': 1, 'second': 1, 'third': 1})\n"
     ]
    }
   ],
   "source": [
    "print(counter)"
   ]
  },
  {
   "cell_type": "code",
   "execution_count": null,
   "metadata": {},
   "outputs": [],
   "source": []
  }
 ]
}