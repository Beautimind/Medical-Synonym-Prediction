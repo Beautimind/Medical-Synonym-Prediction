{
 "metadata": {
  "language_info": {
   "codemirror_mode": {
    "name": "ipython",
    "version": 3
   },
   "file_extension": ".py",
   "mimetype": "text/x-python",
   "name": "python",
   "nbconvert_exporter": "python",
   "pygments_lexer": "ipython3",
   "version": "3.7.9-final"
  },
  "orig_nbformat": 2,
  "kernelspec": {
   "name": "python3",
   "display_name": "Python 3",
   "language": "python"
  }
 },
 "nbformat": 4,
 "nbformat_minor": 2,
 "cells": [
  {
   "cell_type": "code",
   "execution_count": 17,
   "metadata": {},
   "outputs": [],
   "source": [
    "import pickle\n",
    "from tqdm import tqdm\n",
    "import pandas as pd"
   ]
  },
  {
   "cell_type": "code",
   "execution_count": 18,
   "metadata": {},
   "outputs": [],
   "source": [
    "with open('data.pickle', 'rb') as f:\n",
    "    data_dict = pickle.load(f)"
   ]
  },
  {
   "cell_type": "code",
   "execution_count": 19,
   "metadata": {
    "tags": [
     "outputPrepend"
    ]
   },
   "outputs": [
    {
     "output_type": "stream",
     "name": "stdout",
     "text": [
      "icotemporal', 'RELATED'), ('zygomaticotemporal branch', 'RELATED'), ('zygomaticotemporal branch of zygomatic nerve', 'EXACT')], 'vulval vein': [], 'pelvic vein': [], 'penis blood vessel': [('penis vasculature', 'RELATED'), ('vasculature of penis', 'RELATED')], 'wall of left ventricle': [('left ventricular wall', 'EXACT'), ('pared del ventrC-culo izquierdo@es', 'EXACT')], 'wall of right ventricle': [('pared del ventrC-culo derecho@es', 'EXACT'), ('right ventricular wall', 'EXACT')], 'anterior wall of left ventricle': [], 'anterior wall of right ventricle': [], 'myocardium of anterior wall of left ventricle': [], 'myocardium of anterior wall of right ventricle': [], 'mucosa of lip': [('labial mucosa', 'EXACT')], 'renal pelvis/ureter': [('renal pelvis and ureter', 'EXACT'), ('renal pelvis plus ureter', 'EXACT')], 'vasculature of spleen': [], 'vasculature of central nervous system plus retina': [], 'vasculature of central nervous system': [], 'anatomical border': [], 'wall of coronary artery': [('coronary arterial wall', 'EXACT')], 'wall of appendix': [('appendix wall', 'EXACT'), ('wall of vermiform appendix', 'EXACT')], 'wall of gallbladder': [('gallbladder wall', 'EXACT')], 'wall of brachiocephalic artery': [('brachiocephalic arterial wall', 'EXACT')], 'wall of subclavian artery': [('subclavian arterial wall', 'EXACT')], 'wall of anal canal': [('anal canal wall', 'EXACT')], 'wall of right ureter': [('right ureteral wall', 'EXACT')], 'wall of left ureter': [('left ureteral wall', 'EXACT')], 'wall of pulmonary artery': [('pulmonary arterial wall', 'EXACT')], 'wall of uterine tube': [('uterine tube wall', 'EXACT'), ('wall of fallopian tube', 'EXACT'), ('wall of oviduct', 'EXACT')], 'wall of urethra': [('urethral wall', 'EXACT')], 'wall of vagina': [('vaginal wall', 'EXACT')], 'wall of synovial tendon sheath': [], 'wall of lateral ventricle': [], 'wall of fourth ventricle': [], 'wall of ventricular system of brain': [], 'wall of eyeball': [('eyeball wall', 'EXACT')], 'wall of common carotid artery': [('common carotid arterial wall', 'EXACT')], 'wall of heart': [('cardiac wall', 'EXACT')], 'wall of membranous labyrinth': [('membranous labyrinth wall', 'EXACT')], 'wall of lacrimal duct': [('lacrimal ductal wall', 'EXACT')], 'wall of male urethra': [('male urethral wall', 'EXACT')], 'wall of female urethra': [('female urethral wall', 'EXACT')], 'collection of hair on external ear': [('external ear hair', 'RELATED')], 'skin of face': [('face skin', 'EXACT'), ('facial skin', 'RELATED')], 'spleen pulp': [('Malpighian corpuscles', 'EXACT'), ('pulp of spleen', 'EXACT'), ('splenic pulp', 'EXACT')], 'parenchyma of spleen': [('splenic parenchyma', 'EXACT')], 'lateral line ganglion': [], 'posterior lateral line nerve': [('caudal lateral line nerve', 'EXACT')], 'lateral line primordium': [('llp', 'EXACT')], 'anterior lateral line nerve': [('rostral lateral line nerve', 'EXACT')], 'future internal carotid artery': [('PICA', 'EXACT'), ('primitive internal carotid artery', 'EXACT')], 'axial vasculature': [], 'posterior lateral line placode': [], 'posterior lateral line ganglion': [], 'anterior lateral line placode': [('pre-auditory lateral line placode', 'RELATED')], 'anterior lateral line ganglion': [], 'primitive olfactory epithelium': [], 'postcranial axial cartilage': [], 'anterior lateral line system': [], 'anterior lateral line': [], 'posterior lateral line system': [], 'anterior lateral line primordium': [], 'protoneuromast': [('immature neuromast', 'RELATED'), ('proto neuromast', 'RELATED'), ('proto-neuromast', 'RELATED')], 'fenestrated capillary': [('fenestrated capillary vessel', 'EXACT')], 'preplacodal ectoderm': [], 'external integument structure': [], 'head external integument structure': [], 'body external integument structure': [], 'limb external integument structure': [], 'tail external integument structure': [], 'vasculature of respiratory integument': [], 'lateral line nucleus': [], 'mineralized skeletal tissue': [], 'skeletal element projection': [], 'neck of humerus': [('anatomic neck of humerus', 'RELATED'), ('collum anatomicum (Humerus)', 'EXACT'), ('humeral neck', 'EXACT')], 'surface of bone': [('bone surface', 'EXACT')], 'forelimb bud mesenchyme': [], 'hindlimb bud mesenchyme': [], 'pedal digit plus metapodial segment': [('pedal digit digitopodial subdivision', 'EXACT'), ('pedal digit ray', 'EXACT')], 'manual digit plus metapodial segment': [('manual digit digitopodial subdivision', 'EXACT'), ('manual digit ray', 'EXACT')], 'digit plus metapodial segment': [('digit digitopodial subdivision', 'EXACT'), ('digit ray', 'EXACT')], 'pedal digit digitopodial skeleton': [('pedal digit skeleton', 'RELATED')], 'manual digit digitopodial skeleton': [('manual digit skeleton', 'RELATED')], 'individual digit of digitopodial skeleton': [('digit skeleton', 'RELATED')], 'left side of back': [], 'right side of back': [], 'skin of scalp': [('adult scalp zone of skin', 'EXACT'), ('scalp skin', 'EXACT'), ('scalp zone of skin', 'EXACT'), ('zone of skin of adult scalp', 'EXACT'), ('zone of skin of scalp', 'EXACT')], 'right forelimb': [], 'left forelimb': [], 'right hindlimb': [], 'left hindlimb': [], 'alobate nucleus': [], 'BCL6 (human)': [], 'RNASE2 (human)': [], 'RNASE3 (human)': [], 'RORC (human)': [], 'RUNX1 (human)': [], 'CXCR5 (human)': [], 'SDC1 (human)': [], 'SELL (human)': [], 'SIGLEC5 (human)': [], 'SLAMF1 (human)': [], 'SIGLEC1 (human)': [], 'BST2 (human)': [], 'SPI1 (human)': [], 'SPN (human)': [], 'TAL1 (human)': [], 'TBX21 (human)': [], 'TFRC (human)': [], 'THBD (human)': [], 'THY1 (human)': [], 'TNFRSF11A (human)': [], 'CD27 (human)': [], 'CD40LG (human)': [], 'TRPC3 (human)': [], 'ACP5 (human)': [], 'VPREB1 (human)': [], 'CLEC4C (human)': [], 'NETO1 (human)': [], 'CLEC6A (human)': [], 'CLEC7A (human)': [], 'IRX6 (human)': [], 'LILRA4 (human)': [], 'CD93 (human)': [], 'CCR1 (human)': [], 'CCR2 (human)': [], 'CCR3 (human)': [], 'CCR4 (human)': [], 'CCR5 (human)': [], 'CCR6 (human)': [], 'CCR7 (human)': [], 'CD14 (human)': [], 'CD163 (human)': [], 'CD19 (human)': [], 'CD1A (human)': [], 'CD1C (human)': [], 'CD1D (human)': [], 'CD2 (human)': [], 'CD209 (human)': [], 'CD22 (human)': [], 'CD24 (human)': [], 'CD28 (human)': [], 'CD33 (human)': [], 'CD34 (human)': [], 'CD36 (human)': [], 'CD38 (human)': [], 'CD3E (human)': [], 'CD4 (human)': [], 'CD44 (human)': [], 'CD48 (human)': [], 'CD5 (human)': [], 'CD68 (human)': [], 'CD69 (human)': [], 'CD7 (human)': [], 'CD80 (human)': [], 'CD83 (human)': [], 'CD84 (human)': [], 'CD86 (human)': [], 'CD8A (human)': [], 'CD8B (human)': [], 'CD9 (human)': [], 'TMED1 (human)': [], 'CDH1 (human)': [], 'CDH5 (human)': [], 'CD207 (human)': [], 'IL17RB (human)': [], 'A4GALT (human)': [], 'CD244 (human)': [], 'CEACAM8 (human)': [], 'CEBPA (human)': [], 'CEBPE (human)': [], 'NTNG1 (human)': [], 'CR1 (human)': [], 'CR2 (human)': [], 'CSF1R (human)': [], 'CTLA4 (human)': [], 'CTSK (human)': [], 'CX3CR1 (human)': [], 'CXCR4 (human)': [], 'DNTT (human)': [], 'EGR2 (human)': [], 'ADGRE1 (human)': [], 'ENG (human)': [], 'ENPEP (human)': [], 'ENPP3 (human)': [], 'EOMES (human)': [], 'EPX (human)': [], 'FCER1A (human)': [], 'FCER2 (human)': [], 'FCGR1A (human)': [], 'FCGR2B (human)': [], 'FLT3 (human)': [], 'FOS (human)': [], 'FPR1 (human)': [], 'FUT4 (human)': [], 'GATA1 (human)': [], 'GATA2 (human)': [], 'GATA3 (human)': [], 'GFAP (human)': [], 'GP1BA (human)': [], 'PTGDR2 (human)': [], 'CXCR3 (human)': [], 'GYPA (human)': [], 'GZMB (human)': [], 'HBZ (human)': [], 'HLA-DRA (human)': [], 'ANPEP (human)': [], 'ICOS (human)': [], 'IGLL1 (human)': [], 'IL1RL1 (human)': [], 'IL2RA (human)': [], 'IL2RB (human)': [], 'IL3RA (human)': [], 'IL5RA (human)': [], 'IL7R (human)': [], 'CXCR1 (human)': [], 'CXCR2 (human)': [], 'FOXP3 (human)': [], 'ITGA2 (human)': [], 'ITGA2B (human)': [], 'ITGA4 (human)': [], 'ITGAE (human)': [], 'ITGAM (human)': [], 'ITGAX (human)': [], 'ITGB7 (human)': [], 'KDR (human)': [], 'KIT (human)': [], 'KLRB1 (human)': [], 'KLRC1 (human)': [], 'KLRD1 (human)': [], 'KLRG1 (human)': [], 'LCN2 (human)': [], 'LGALS1 (human)': [], 'LHX3 (human)': [], 'ARG1 (human)': [], 'LTF (human)': [], 'LY75 (human)': [], 'NCR1 (human)': [], 'NCR2 (human)': [], 'MARCO (human)': [], 'MERTK (human)': [], 'MME (human)': [], 'MPO (human)': [], 'MRC1 (human)': [], 'MS4A1 (human)': [], 'MSR1 (human)': [], 'MYB (human)': [], 'NCAM1 (human)': [], 'NFKB2 (human)': [], 'NT5E (human)': [], 'PAX5 (human)': [], 'PDCD1 (human)': [], 'PLAUR (human)': [], 'PRF1 (human)': [], 'PRG2 (human)': [], 'PROM1 (human)': [], 'SIRPA (human)': [], 'PTPRC (human)': [], 'RAG1 (human)': [], 'RAG2 (human)': [], 'Cd86 (mouse)': [], 'Cd80 (mouse)': [], 'Klra4 (mouse)': [], 'Klra3 (mouse)': [], 'Klra1 (mouse)': [], 'Lhx3 (mouse)': [], 'Klra8 (mouse)': [], 'Ccr7 (mouse)': [], 'Prg2 (mouse)': [], 'Cxcr5 (mouse)': [], 'Cebpe (mouse)': [], 'Ccr3 (mouse)': [], 'Ccr1 (mouse)': [], 'Rorc (mouse)': [], 'Pdcd1 (mouse)': [], 'Cdh5 (mouse)': [], 'Cxcr2 (mouse)': [], 'Ccr2 (mouse)': [], 'Tmed1 (mouse)': [], 'Enpep (mouse)': [], 'Ly75 (mouse)': [], 'Cd93 (mouse)': [], 'Ly76 (mouse)': [], 'Adgre1 (mouse)': [], 'Ccr5 (mouse)': [], 'Bcl6 (mouse)': [], 'Fpr1 (mouse)': [], 'Cd38 (mouse)': [], 'Ly6a (mouse)': [], 'Klrb1c (mouse)': [], 'Epx (mouse)': [], 'Cd1d1 (mouse)': [], 'Ctsk (mouse)': [], 'Ccr4 (mouse)': [], 'Cd36 (mouse)': [], 'Sirpa (mouse)': [], 'Cd244 (mouse)': [], 'Ly6g (mouse)': [], 'Trpc3 (mouse)': [], 'Cxcr4 (mouse)': [], 'Nfkb2 (mouse)': [], 'Prom1 (mouse)': [], 'Klrd1 (mouse)': [], 'Eomes (mouse)': [], 'Cxcr3 (mouse)': [], 'Itgae (mouse)': [], 'Marco (mouse)': [], 'Tnfrsf11a (mouse)': [], 'Cd83 (mouse)': [], 'Ptgdr2 (mouse)': [], 'Gp1ba (mouse)': [], 'Ccr6 (mouse)': [], 'Cx3cr1 (mouse)': [], 'Ncr1 (mouse)': [], 'Cd84 (mouse)': [], 'Csf1r (mouse)': [], 'Sdc1 (mouse)': [], 'Slamf1 (mouse)': [], 'Il17rb (mouse)': [], 'Klrg1 (mouse)': [], 'Icos (mouse)': [], 'Clec4n (mouse)': [], 'Clec7a (mouse)': [], 'Tbx21 (mouse)': [], 'Foxp3 (mouse)': [], 'Cd209b (mouse)': [], 'Bst2 (mouse)': [], 'Cd200r3 (mouse)': [], 'Irx6 (mouse)': [], 'Ntng1 (mouse)': [], 'Cd163 (mouse)': [], 'Enpp3 (mouse)': [], 'Cd207 (mouse)': [], 'Neto1 (mouse)': [], 'A4galt (mouse)': [], 'Ly6c2 (mouse)': [], 'Anpep (mouse)': [], 'Acp5 (mouse)': [], 'Arg1 (mouse)': [], 'Cd14 (mouse)': [], 'Cd19 (mouse)': [], 'Cd2 (mouse)': [], 'Ms4a1 (mouse)': [], 'Cd22 (mouse)': [], 'Cd24a (mouse)': [], 'Cd27 (mouse)': [], 'Cd28 (mouse)': [], 'Cd34 (mouse)': [], 'Cd3e (mouse)': [], 'Cd4 (mouse)': [], 'Cd40lg (mouse)': [], 'Cd44 (mouse)': [], 'Cd48 (mouse)': [], 'Cd5 (mouse)': [], 'Cd68 (mouse)': [], 'Cd69 (mouse)': [], 'Cd7 (mouse)': [], 'Cd8a (mouse)': [], 'Cd8b1 (mouse)': [], 'Cd9 (mouse)': [], 'Cdh1 (mouse)': [], 'Cr2 (mouse)': [], 'Ctla4 (mouse)': [], 'Egr2 (mouse)': [], 'Eng (mouse)': [], 'Fcer1a (mouse)': [], 'Fcer2a (mouse)': [], 'Fcgr1 (mouse)': [], 'Fcgr2 (mouse)': [], 'Fcgr3 (mouse)': [], 'Flt3 (mouse)': [], 'Fos (mouse)': [], 'Fut4 (mouse)': [], 'Gata1 (mouse)': [], 'Gata2 (mouse)': [], 'Gata3 (mouse)': [], 'Gfap (mouse)': [], 'H2-Ea (mouse)': [], 'Hba-x (mouse)': [], 'Hbb-b1 (mouse)': [], 'Il2ra (mouse)': [], 'Il2rb (mouse)': [], 'Il3ra (mouse)': [], 'Il5ra (mouse)': [], 'Il7r (mouse)': [], 'Itga2 (mouse)': [], 'Itga2b (mouse)': [], 'Itga4 (mouse)': [], 'Itgam (mouse)': [], 'Itgax (mouse)': [], 'Itgb7 (mouse)': [], 'Kit (mouse)': [], 'Kdr (mouse)': [], 'Lcn2 (mouse)': [], 'Lgals1 (mouse)': [], 'Ltf (mouse)': [], 'Mertk (mouse)': [], 'Mme (mouse)': [], 'Mpo (mouse)': [], 'Mrc1 (mouse)': [], 'Myb (mouse)': [], 'Ncam1 (mouse)': [], 'Pax5 (mouse)': [], 'Prf1 (mouse)': [], 'Plaur (mouse)': [], 'Rag1 (mouse)': [], 'Rag2 (mouse)': [], 'Msr1 (mouse)': [], 'Sell (mouse)': [], 'Spi1 (mouse)': [], 'Spn (mouse)': [], 'Il1rl1 (mouse)': [], 'Tal1 (mouse)': [], 'Dntt (mouse)': [], 'Thbd (mouse)': [], 'Thy1 (mouse)': [], 'Tfrc (mouse)': [], 'Cd33 (mouse)': [], 'Cebpa (mouse)': [], 'Siglec1 (mouse)': [], 'Nt5e (mouse)': [], 'Runx1 (mouse)': [], 'part of': ['part_of'], 'has part': ['has_part'], 'preceded by': ['preceded_by', ('is preceded by', 'EXACT'), ('takes place after', 'EXACT')], 'precedes': [], 'occurs in': [], 'contains process': [], 'anterior_to': [], 'distal_to': [], 'dorsal_to': [], 'posterior_to': [], 'proximal_to': [], 'ventral_to': [], 'deep_to': [], 'superficial_to': [], 'in_left_side_of': [], 'in_right_side_of': [], 'in_posterior_side_of': [], 'in_anterior_side_of': [], 'in_proximal_side_of': [], 'in_distal_side_of': [], 'in_lateral_side_of': [], 'in_deep_part_of': [], 'proximalmost_part_of': [], 'immediately_deep_to': [], 'distalmost_part_of': [], 'preaxialmost_part_of': [], 'intersects_midsagittal_plane_of': [], 'immediately_superficial_to': [], 'in_dorsal_side_of': [], 'inheres in': [], 'bearer of': [], 'participates in': ['participates_in'], 'has participant': [], 'has_quality': [], 'has role': [], 'derives from': ['derives_from'], 'derives into': [], 'location of': ['location_of'], 'contained in': [], 'contains': [], 'located in': ['located_in'], 'has boundary': [], 'innervated_by': [('nerve supply', 'EXACT')], 'has synaptic terminal of': [], 'bounding layer of': [], 'has regulatory component activity': [], 'has negative regulatory component activity': [], 'has positive regulatory component activity': [], 'has component activity': [], 'has component process': [], 'directly regulated by': [], 'directly negatively regulated by': [], 'directly positively regulated by': [], 'has effector activity': [], 'ends after': [], 'immediately preceded by': ['immediately_preceded_by', ('directly preceded by', 'EXACT'), ('is directly preceded by', 'EXACT'), ('is immediately preceded by', 'EXACT'), ('starts_at_end_of', 'EXACT')], 'immediately precedes': [], 'has soma location': [], 'axon synapses in': [], 'synapsed by': [], 'has plasma membrane part': [], 'has postsynaptic terminal in': [], 'has presynaptic terminal in': [], 'synapsed to': [], 'has synaptic terminal in': [], 'overlaps': [], 'innervates': [], 'continuous_with': [], 'homologous_to': [], 'only in taxon': ['only_in_taxon', ('never_outside_taxon', 'EXACT'), ('specific_to', 'EXACT'), ('specific_to_taxon', 'EXACT')], 'in taxon': [], 'spatially disjoint from': [], 'connected to': [], 'connects': [], 'attaches_to_part_of': [], 'supplies': [('arterial supply of', 'EXACT')], 'drains': [('drains blood from', 'EXACT'), ('drains from', 'EXACT')], 'has component': ['has_component'], 'develops from': ['develops_from'], 'develops into': ['develops_into'], 'expressed in': [], 'directly_develops_from': [], 'regulates': [], 'negatively regulates': [], 'positively regulates': [], 'capable of': ['capable_of'], 'capable of part of': [], 'surrounded_by': [], 'adjacent to': ['adjacent_to'], 'surrounds': [], 'temporally related to': [], 'starts': [], 'starts with': [], 'develops_from_part_of': [], 'develops_in': [], 'ends': [('finishes', 'EXACT')], 'ends with': [], 'has input': [], 'has developmental contribution from': [], 'developmentally contributes to': ['developmentally_contributes_to'], 'developmentally_induced_by': [], 'developmentally preceded by': [], 'acts upstream of': [], 'acts upstream of or within': [('affects', 'RELATED')], 'developmentally_replaces': [], 'developmentally succeeded by': [], 'expresses': [], 'causally upstream of, positive effect': [], 'causally upstream of, negative effect': [], 'inheres in part of': [], 'evolutionarily related to': [], 'mereotopologically related to': [], 'developmentally related to': [], 'enables': [], 'functionally related to': [], 'part of structure that is capable of': [], 'genomically related to': [], 'involved in': [], 'enabled by': [], 'regulated by': [], 'negatively regulated by': [], 'positively regulated by': [], 'member of': [], 'has member': [], 'input of': [], 'output_of': [], 'attaches_to': [], 'has_muscle_origin': [], 'has_muscle_insertion': [], 'tributary_of': [('drains into', 'RELATED')], 'spatially coextensive with': [], 'branching_part_of': [], 'has developmental potential involving': [], 'has potential to developmentally contribute to': [], 'has potential to develop into': [], 'has potential to directly develop into': [], 'causally downstream of': [], 'immediately causally downstream of': [], 'causally related to': [], 'causally upstream of': [], 'immediately causally upstream of': [], 'causally upstream of or within': [('affects', 'RELATED')], 'causally downstream of or within': [], 'involved in regulation of': [], 'involved in positive regulation of': [], 'involved in negative regulation of': [], 'involved in or involved in regulation of': [], 'is active in': [('enables activity in', 'EXACT')], 'contributes to morphology of': [], 'interacts with': [('in pairwise interaction with', 'EXACT')], 'molecularly interacts with': [], 'phosphorylates': [], 'directly regulates activity of': [('molecularly controls', 'EXACT')], 'directly negatively regulates activity of': [('molecularly decreases activity of', 'EXACT')], 'directly positively regulates activity of': [('molecularly increases activity of', 'EXACT')], 'helper property (not for use in curation)': [], 'composed primarily of': [], 'has part that occurs in': [], 'is kinase activity': [], 'receives input from': [], 'sends output to': [], 'existence starts during': [('begins_to_exist_during', 'EXACT')], 'existence starts with': [], 'existence starts and ends during': [], 'existence ends during': [('ceases_to_exist_during', 'EXACT')], 'existence ends with': [], 'transformation of': [('transforms from', 'EXACT')], 'immediate transformation of': [('direct_transformation_of', 'EXACT'), ('immediately transforms from', 'EXACT')], 'existence starts during or after': [], 'existence ends during or before': [], 'causal agent in process': [], 'causal relation between processes': [], 'depends on': [], 'causal relation between entities': [], 'has skeleton': [('has sekeletal support', 'RELATED'), ('has supporting framework', 'RELATED')], 'causally influenced by': [], 'interaction relation helper property': [], 'molecular interaction relation helper property': [], 'causally influences': [], 'has_muscle_antagonist': [], 'has branching part': [], 'lumen of': [], 'luminal space of': [], 'has modifier': [], 'skeleton of': [], 'directly regulates': [], 'has part structure that is capable of': [], 'causal relation between material entity and a process': [], 'capable of regulating': [], 'capable of negatively regulating': [], 'capable of positively regulating': [], 'process has causal agent': [], 'directly positively regulates': [], 'directly negatively regulates': [], 'produces': [], 'produced by': ['produced_by'], 'enables subfunction': [], 'acts upstream of or within, positive effect': [], 'acts upstream of or within, negative effect': [], 'acts upstream of, positive effect': [], 'acts upstream of, negative effect': [], 'causally upstream of or within, negative effect': [], 'causally upstream of or within, positive effect': [], 'regulates activity of': [], 'anteriorly connected to': [], 'channel for': [], 'channels_from': [], 'channels_into': [], 'conduit for': [], 'decreased_in_magnitude_relative_to': [], 'different_in_magnitude_relative_to': [], 'distally connected to': [], 'extends_fibers_into': [], 'filtered through': [], 'has_completed': [], 'has_cross_section': [], 'has_gene_template': [], 'has_high_plasma_membrane_amount': [], 'has_low_plasma_membrane_amount': [], 'has_not_completed': [], 'has_relative_magnitude': [], 'immediate_transformation_of': [('direct_transformation_of', 'EXACT'), ('immediately transforms from', 'EXACT')], 'increased_in_magnitude_relative_to': [], 'indirectly_supplies': [], 'lacks_part': [], 'lacks_plasma_membrane_part': [], 'posteriorly connected to': [], 'protects': [], 'proximally connected to': [], 'sexually_homologous_to': [], 'subdivision of': [], 'transitively anteriorly connected to': [], 'transitively_connected to': [], 'transitively distally connected to': [], 'transitively proximally connected to': [], 'trunk_part_of': []}\n"
     ]
    }
   ],
   "source": [
    "print(data_dict)"
   ]
  },
  {
   "cell_type": "code",
   "execution_count": 20,
   "metadata": {
    "tags": [
     "outputPrepend"
    ]
   },
   "outputs": [
    {
     "output_type": "stream",
     "name": "stdout",
     "text": [
      "T-lymphocyte\nCD4-positive, alpha-beta memory T lymphocyte\nCD4-positive, alpha-beta memory T-cell\nCD4-positive, alpha-beta memory T-lymphocyte\nnaive thymus-dervied CD8-positive, alpha-beta T lymphocyte\nnaive thymus-dervied CD8-positive, alpha-beta T-cell\nnaive thymus-dervied CD8-positive, alpha-beta T-lymphocyte\ncentral CD4-positive, alpha-beta memory T cell\ncentral CD4-positive, alpha-beta memory T lymphocyte\ncentral CD4-positive, alpha-beta memory T-cell\ncentral CD4-positive, alpha-beta memory T-lymphocyte\ncentral memory CD4-positive, alpha-beta T lymphocyte\ncentral memory CD4-positive, alpha-beta T-cell\ncentral memory CD4-positive, alpha-beta T-lymphocyte\neffector CD4-positive, alpha-beta memory T cell\neffector CD4-positive, alpha-beta memory T lymphocyte\neffector CD4-positive, alpha-beta memory T-cell\neffector CD4-positive, alpha-beta memory T-lymphocyte\neffector memory CD4-positive, alpha-beta T lymphocyte\neffector memory CD4-positive, alpha-beta T-cell\neffector memory CD4-positive, alpha-beta T-lymphocyte\nactivated CD8-positive, alpha-beta T lymphocyte\nactivated CD8-positive, alpha-beta T-cell\nactivated CD8-positive, alpha-beta T-lymphocyte\ncentral CD8-positive, alpha-beta memory T cell\ncentral CD8-positive, alpha-beta memory T lymphocyte\ncentral CD8-positive, alpha-beta memory T-cell\ncentral CD8-positive, alpha-beta memory T-lymphocyte\ncentral memory CD8-positive, alpha-beta T lymphocyte\ncentral memory CD8-positive, alpha-beta T-cell\ncentral memory CD8-positive, alpha-beta T-lymphocyte\nCD8-positive, alpha-beta cytokine secreting effector T lymphocyte\nCD8-positive, alpha-beta cytokine secreting effector T-cell\nCD8-positive, alpha-beta cytokine secreting effector T-lymphocyte\nCD8-positive, alpha-beta memory T lymphocyte\nCD8-positive, alpha-beta memory T-cell\nCD8-positive, alpha-beta memory T-lymphocyte\neffector CD8-positive, alpha-beta memory T cell\neffector CD8-positive, alpha-beta memory T lymphocyte\neffector CD8-positive, alpha-beta memory T-cell\neffector CD8-positive, alpha-beta memory T-lymphocyte\neffector memory CD8-positive, alpha-beta T lymphocyte\neffector memory CD8-positive, alpha-beta T-cell\neffector memory CD8-positive, alpha-beta T-lymphocyte\nCD8-alpha-alpha-positive, alpha-beta intraepithelial T lymphocyte\nCD8-alpha-alpha-positive, alpha-beta intraepithelial T-cell\nCD8-alpha-alpha-positive, alpha-beta intraepithelial T-lymphocyte\nCD8-positive, CD25-positive Treg\nCD8-positive, CD25-positive, alpha-beta regulatory T lymphocyte\nCD8-positive, CD25-positive, alpha-beta regulatory T-cell\nCD8-positive, CD25-positive, alpha-beta regulatory T-lymphocyte\nCD8-positive, CD28-negative T(reg)\nCD8-positive, CD28-negative Treg\nCD8-positive, CD28-negative, alpha-beta regulatory T lymphocyte\nCD8-positive, CD28-negative, alpha-beta regulatory T-cell\nCD8-positive, CD28-negative, alpha-beta regulatory T-lymphocyte\nCD4-negative, CD8-negative type I NK T lymphocyte\nCD4-negative, CD8-negative type I NK T-cell\nCD4-negative, CD8-negative type I NK T-lymphocyte\nCD4-negative, CD8-negative type I NKT cell\nactivated CD4-negative, CD8-negative type I NK T lymphocyte\nactivated CD4-negative, CD8-negative type I NK T-cell\nactivated CD4-negative, CD8-negative type I NK T-lymphocyte\nactivated CD4-negative, CD8-negative type I NKT cell\nCD4-negative, CD8-negative type I NK T cell secreting IFN-gamma\nCD4-negative, CD8-negative type I NK T lymphocyte secreting interferon-gamma\nCD4-negative, CD8-negative type I NK T-cell secreting interferon-gamma\nCD4-negative, CD8-negative type I NK T-lymphocyte secreting interferon-gamma\nCD4-negative, CD8-negative type I NKT cell secreting interferon-gamma\nCD4-negative, CD8-negative type I NK T cell secreting IL-4\nCD4-negative, CD8-negative type I NK T lymphocyte secreting interleukin-4\nCD4-negative, CD8-negative type I NK T-cell secreting interleukin-4\nCD4-negative, CD8-negative type I NK T-lymphocyte secreting interleukin-4\nCD4-negative, CD8-negative type I NKT cell secreting interleukin-4\nCD4-positive, alpha-beta cytotoxic T lymphocyte\nCD4-positive, alpha-beta cytotoxic T-cell\nCD4-positive, alpha-beta cytotoxic T-lymphocyte\nCD4-negative, CD8-negative, alpha-beta intraepithelial T lymphocyte\nCD4-negative, CD8-negative, alpha-beta intraepithelial T-cell\nCD4-negative, CD8-negative, alpha-beta intraepithelial T-lymphocyte\nCD16-negative, CD56-bright NK cell\nCD16-positive, CD56-dim NK cell\nCD16-positive, CD56-low natural killer cell\nCD16-positive, CD56-low NK cell\nCD16-positive, CD56-positive natural killer cell\nCD16-positive, CD56-positive NK cell\nCD27-positive, CD38-positive, CD20-negative B cell\nCD8-positive, CXCR3-positive, alpha-beta regulatory T lymphocyte\nCD8-positive, CXCR3-positive, alpha-beta regulatory T-cell\nCD8-positive, CXCR3-positive, alpha-beta regulatory T-lymphocyte\nCD8-positive, CXCR3-positive, T(reg)\nCD8-positive, CXCR3-positive, Treg\nactivated CD4-positive, alpha-beta T lymphocyte, human\nactivated CD4-positive, alpha-beta T-cell, human\nactivated CD4-positive, alpha-beta T-lymphocyte, human\neffector CD4-positive, alpha-beta T lymphocyte\neffector CD4-positive, alpha-beta T-cell\neffector CD4-positive, alpha-beta T-lymphocyte\nCD4-positive, CD25-positive, CCR4-positive, alpha-beta regulatory T lymphocyte\nCD4-positive, CD25-positive, CCR4-positive, alpha-beta regulatory T-cell\nCD4-positive, CD25-positive, CCR4-positive, alpha-beta regulatory T-lymphocyte\nactivated CD4-positive, CD25-positive, CCR4-positive, alpha-beta regulatory T lymphocyte\nactivated CD4-positive, CD25-positive, CCR4-positive, alpha-beta regulatory T-cell\nactivated CD4-positive, CD25-positive, CCR4-positive, alpha-beta regulatory T-lymphocyte\nactivated CD8-positive, alpha-beta T lymphocyte, human\nactivated CD8-positive, alpha-beta T-cell, human\nactivated CD8-positive, alpha-beta T-lymphocyte, human\neffector CD8-positive, alpha-beta T lymphocyte\neffector CD8-positive, alpha-beta T-cell\neffector CD8-positive, alpha-beta T-lymphocyte\nCD4-positive, CXCR3-negative, CCR6-negative, alpha-beta T lymphocyte\nCD4-positive, CXCR3-negative, CCR6-negative, alpha-beta T-cell\nCD4-positive, CXCR3-negative, CCR6-negative, alpha-beta T-lymphocyte\nCD8-positive, CXCR3-negative, CCR6-negative, alpha-beta T lymphocyte\nCD8-positive, CXCR3-negative, CCR6-negative, alpha-beta T-cell\nCD8-positive, CXCR3-negative, CCR6-negative, alpha-beta T-lymphocyte\nintermediate monocyte, human\ncolony forming unit granulocyte, erythrocyte, macrophage, and megakaryocyte\ncommon myeloid precursor, CD34-positive\nCD34-negative, CD117-positive ILC\nCD34-negative, CD117-positive ILCP\nCD34-negative, CD117-positive innate lymphoid cell precusor\nCD34-negative, CD56-positive, CD117-positive ILC\nCD34-negative, CD56-positive, CD117-positive ILCP\nCD34-negative, CD56-positive, CD117-positive innate lymphoid cell precursor\nCD34-positive, CD56-positive, CD117-positive CILP\ninnate lymphoid cell 1, human\nILC3, human\nILC2, human\nB lymphocyte, CD19-positive\nB-cell, CD19-positive\nB-lymphocyte, CD19-positive\nCD8-positive, alpha-beta memory T lymphocyte, CD45RO-positive\nCD8-positive, alpha-beta memory T-cell, CD45RO-positive\nCD8-positive, alpha-beta memory T-lymphocyte, CD45RO-positive\nCD4-positive, alpha-beta memory T lymphocyte, CD45RO-positive\nCD4-positive, alpha-beta memory T-cell, CD45RO-positive\nCD4-positive, alpha-beta memory T-lymphocyte, CD45RO-positive\nnon-classical monocyte, human\nVg1.1-positive, Vd6.3-negative T cell\nmature Vg1.1-positive, Vd6.3-negative T cell\nimmature Vg1.1-positive, Vd6.3-negative T cell\nCD24-positive, CD4 single-positive semimature thymocyte\nCD24-positive, CD8 single-positive semimature thymocyte\nCD4-negative, CD8-negative, alpha-beta regulatory T cells\nAn effector T cell that displays impaired effector functions (e.g., rapid production of effector cytokines, cytotoxicity) and has limited proliferative potential.\ncervix, uterine squamous epithelial cells\ncervix, uterine glandular cell\ncervix, uterine glandular cells\nprogrammed cell death, B cells\nprogrammed cell death, B lymphocytes\nprogrammed cell death, B-cells\nprogrammed cell death, B-lymphocytes\nCD4-positive, alpha-beta T cell development involved in immune response\nCD4-positive, alpha-beta T cell differentiation during immune response\nCD4-positive, alpha-beta T lymphocyte differentiation during immune response\nCD4-positive, alpha-beta T-cell differentiation during immune response\nCD4-positive, alpha-beta T-lymphocyte differentiation during immune response\nprogrammed cell death, mature B cells\nprogrammed cell death, mature B lymphocytes\nprogrammed cell death, mature B-cells\nprogrammed cell death, mature B-lymphocytes\ncellular nucleobase, nucleoside, nucleotide and nucleic acid metabolic process\ncellular nucleobase, nucleoside, nucleotide and nucleic acid metabolism\nnucleobase, nucleoside and nucleotide metabolic process\nnucleobase, nucleoside, nucleotide and nucleic acid metabolic process\nnucleobase, nucleoside, nucleotide and nucleic acid metabolism\nregulation of nucleobase, nucleoside, nucleotide and nucleic acid metabolic process\nregulation of nucleobase, nucleoside, nucleotide and nucleic acid metabolism\nimmunoglobulin complex, membrane bound\nantigen presentation, exogenous antigen\ncytoplasmic, membrane-bounded vesicle\ndown regulation of synaptic transmission, cholinergic\ndown-regulation of synaptic transmission, cholinergic\ndownregulation of synaptic transmission, cholinergic\nup regulation of synaptic transmission, cholinergic\nup-regulation of synaptic transmission, cholinergic\nupregulation of synaptic transmission, cholinergic\nup regulation of synaptic transmission, dopaminergic\nup-regulation of synaptic transmission, dopaminergic\nupregulation of synaptic transmission, dopaminergic\ndown regulation of synaptic transmission, dopaminergic\ndown-regulation of synaptic transmission, dopaminergic\ndownregulation of synaptic transmission, dopaminergic\ndown regulation of synaptic transmission, GABAergic\ndown-regulation of synaptic transmission, GABAergic\ndownregulation of synaptic transmission, GABAergic\nup regulation of synaptic transmission, GABAergic\nup-regulation of synaptic transmission, GABAergic\nupregulation of synaptic transmission, GABAergic\nantigen presentation, exogenous antigen via major histocompatibility complex class I\nantigen presentation, exogenous antigen via MHC class I\nCD4-positive, alpha beta T cell development\nCD4-positive, alpha beta T cell differentiation\nCD4-positive, alpha-beta T lymphocyte differentiation\nCD4-positive, alpha-beta T-cell differentiation\nCD4-positive, alpha-beta T-lymphocyte differentiation\nregulation of CD4-positive, alpha beta T cell development\nregulation of CD4-positive, alpha beta T cell differentiation\nregulation of CD4-positive, alpha beta T lymphocyte differentiation\nregulation of CD4-positive, alpha beta T-cell differentiation\nregulation of CD4-positive, alpha beta T-lymphocyte differentiation\ndown regulation of CD4-positive, alpha beta T cell differentiation\ndown-regulation of CD4-positive, alpha beta T cell differentiation\ndownregulation of CD4-positive, alpha beta T cell differentiation\nnegative regulation of CD4-positive, alpha beta T cell development\nnegative regulation of CD4-positive, alpha beta T lymphocyte differentiation\nnegative regulation of CD4-positive, alpha beta T-cell differentiation\nnegative regulation of CD4-positive, alpha beta T-lymphocyte differentiation\npositive regulation of CD4-positive, alpha beta T cell development\npositive regulation of CD4-positive, alpha beta T cell differentiation\npositive regulation of CD4-positive, alpha beta T lymphocyte differentiation\npositive regulation of CD4-positive, alpha beta T-cell differentiation\npositive regulation of CD4-positive, alpha beta T-lymphocyte differentiation\nup regulation of CD4-positive, alpha beta T cell differentiation\nup-regulation of CD4-positive, alpha beta T cell differentiation\nupregulation of CD4-positive, alpha beta T cell differentiation\nmeiosis II, chromosome segregation\ndown regulation of nucleobase, nucleoside, nucleotide and nucleic acid metabolic process\ndown-regulation of nucleobase, nucleoside, nucleotide and nucleic acid metabolic process\ndownregulation of nucleobase, nucleoside, nucleotide and nucleic acid metabolic process\nnegative regulation of nucleobase, nucleoside, nucleotide and nucleic acid metabolic process\nnegative regulation of nucleobase, nucleoside, nucleotide and nucleic acid metabolism\npositive regulation of nucleobase, nucleoside, nucleotide and nucleic acid metabolic process\npositive regulation of nucleobase, nucleoside, nucleotide and nucleic acid metabolism\nup regulation of nucleobase, nucleoside, nucleotide and nucleic acid metabolic process\nup-regulation of nucleobase, nucleoside, nucleotide and nucleic acid metabolic process\nupregulation of nucleobase, nucleoside, nucleotide and nucleic acid metabolic process\nantigen presentation, peptide antigen\nsensory perception, sensory transduction of stimulus\nsensory perception, stimulus detection\nsensory perception, sensory detection of chemical stimulus\nsensory perception, sensory transduction of chemical stimulus\nvisual perception, detection of light stimulus\nvisual perception, sensory transduction during perception of light\nvisual perception, sensory transduction of light stimulus\nhearing, sensory transduction of sound\nperception of sound, detection of mechanical stimulus\nperception of sound, sensory detection of mechanical stimulus\nperception of sound, sensory transduction of mechanical stimulus\nperception of smell, detection of chemical stimulus\nperception of smell, sensory detection of chemical stimulus\nperception of smell, sensory transduction of chemical stimulus\nperception of taste, detection of chemical stimulus\nperception of taste, sensory detection of chemical stimulus\nperception of taste, sensory transduction of chemical stimulus\nthermoception, sensory detection of temperature stimulus\nthermoception, sensory detection of thermal stimulus\nthermoception, sensory transduction of temperature stimulus\nthermoception, sensory transduction of thermal stimulus\nsensory perception, sensory detection of temperature stimulus\nsensory perception, sensory detection of thermal stimulus\nsensory perception, sensory transduction of temperature stimulus\nsensory perception, sensory transduction of thermal stimulus\nsensory perception, sensory detection of light stimulus\nsensory perception, sensory transduction of light stimulus\nsensory perception, sensory detection of mechanical stimulus\nsensory perception, sensory transduction of mechanical stimulus\nperception of touch, detection of mechanical stimulus\nperception of touch, sensory detection of mechanical stimulus\nperception of touch, sensory transduction of mechanical stimulus\ntactition, sensory detection of mechanical stimulus\nsynaptic transmission, GABA mediated\nsynaptic transmission, gamma-aminobutyric acid mediated\nsynaptic transmission, gamma-aminobutyric acid-ergic\ndown regulation of synaptic transmission, glutamatergic\ndown-regulation of synaptic transmission, glutamatergic\ndownregulation of synaptic transmission, glutamatergic\nup regulation of synaptic transmission, glutamatergic\nup-regulation of synaptic transmission, glutamatergic\nupregulation of synaptic transmission, glutamatergic\nbinding, bridging\nserotonin release, neurotransmission\nnoradrenaline secretion, neurotransmission\norexin secretion, neurotransmission\ndown regulation of glutamate secretion, neurotransmission\ndown-regulation of glutamate secretion, neurotransmission\ndownregulation of glutamate secretion, neurotransmission\nup regulation of glutamate secretion, neurotransmission\nup-regulation of glutamate secretion, neurotransmission\nupregulation of glutamate secretion, neurotransmission\ndown regulation of glycine secretion, neurotransmission\ndown-regulation of glycine secretion, neurotransmission\ndownregulation of glycine secretion, neurotransmission\nup regulation of glycine secretion, neurotransmission\nup-regulation of glycine secretion, neurotransmission\nupregulation of glycine secretion, neurotransmission\nregulation of perception of touch, detection of mechanical stimulus\nregulation of perception of touch, sensory detection of mechanical stimulus\nregulation of perception of touch, sensory transduction of mechanical stimulus\nregulation of tactition, sensory detection of mechanical stimulus\ndown regulation of perception of touch, detection of mechanical stimulus\ndown regulation of perception of touch, sensory detection of mechanical stimulus\ndown regulation of perception of touch, sensory transduction of mechanical stimulus\ndown regulation of tactition, sensory detection of mechanical stimulus\ndown-regulation of perception of touch, detection of mechanical stimulus\ndown-regulation of perception of touch, sensory detection of mechanical stimulus\ndown-regulation of perception of touch, sensory transduction of mechanical stimulus\ndown-regulation of tactition, sensory detection of mechanical stimulus\ndownregulation of perception of touch, detection of mechanical stimulus\ndownregulation of perception of touch, sensory detection of mechanical stimulus\ndownregulation of perception of touch, sensory transduction of mechanical stimulus\ndownregulation of tactition, sensory detection of mechanical stimulus\nnegative regulation of perception of touch, detection of mechanical stimulus\nnegative regulation of perception of touch, sensory detection of mechanical stimulus\nnegative regulation of perception of touch, sensory transduction of mechanical stimulus\nnegative regulation of tactition, sensory detection of mechanical stimulus\npositive regulation of perception of touch, detection of mechanical stimulus\npositive regulation of perception of touch, sensory detection of mechanical stimulus\npositive regulation of perception of touch, sensory transduction of mechanical stimulus\npositive regulation of tactition, sensory detection of mechanical stimulus\nup regulation of perception of touch, detection of mechanical stimulus\nup regulation of perception of touch, sensory detection of mechanical stimulus\nup regulation of perception of touch, sensory transduction of mechanical stimulus\nup regulation of tactition, sensory detection of mechanical stimulus\nup-regulation of perception of touch, detection of mechanical stimulus\nup-regulation of perception of touch, sensory detection of mechanical stimulus\nup-regulation of perception of touch, sensory transduction of mechanical stimulus\nup-regulation of tactition, sensory detection of mechanical stimulus\nupregulation of perception of touch, detection of mechanical stimulus\nupregulation of perception of touch, sensory detection of mechanical stimulus\nupregulation of perception of touch, sensory transduction of mechanical stimulus\nupregulation of tactition, sensory detection of mechanical stimulus\nleukocyte adhesion glycoprotein p150,95 alpha chain\nleukocyte adhesion receptor p150,95\nalpha-(1,3)-fucosyltransferase FUT4\nalpha-1,4-galactosyltransferase\nleukocyte adhesion glycoprotein p150,95 alpha chain (human)\nleukocyte adhesion receptor p150,95 (human)\nalpha-1,4-galactosyltransferase (mouse)\nalpha-1,4-N-acetylglucosaminyltransferase (mouse)\nalpha-1,4-galactosyltransferase (human)\nalpha-1,4-N-acetylglucosaminyltransferase (human)\nleukocyte adhesion glycoprotein p150,95 alpha chain (mouse)\nleukocyte adhesion receptor p150,95 (mouse)\nsomatic nervous system, somatic division\nantral fluid, ovarian follicle\ncranial nerve V, branch V1\nskin, dorsal region\nepithelium, vaginal\nepithelium, retinal pigment\nretina, outer nuclear layer\nretina, outer plexiform layer\nretina, inner nuclear layer\nretina, ganglion cell layer\nretina, inner plexiform layer\npituitary gland, anterior lobe\npituitary gland, neural lobe\npituitary gland, posterior lobe\nloop of Henle, inner medullary portion\nzeugopod bone, forelimb\nzeugopod bone, upper\nramus anterior, nervus thoracicus\ndentate gyrus, granule cell layer\ncerebral cortex, layer 1\nloop of Henle, outer medullary portion\nloop of Henle, medullary portion\n"
     ]
    }
   ],
   "source": [
    "count_list = []\n",
    "for key, values in data_dict.items():\n",
    "    for value in values:\n",
    "        if ',' in value[0]:\n",
    "            print(value[0])\n",
    "        "
   ]
  },
  {
   "cell_type": "code",
   "execution_count": 21,
   "metadata": {},
   "outputs": [],
   "source": [
    "import itertools\n",
    "import random\n",
    "# This function radomly sample negative pairs \n",
    "def generate_data(syno_sets):\n",
    "    name1_list = []\n",
    "    name2_list = []\n",
    "    label_list = []\n",
    "    for syno_set in syno_sets:\n",
    "        for name1, name2 in itertools.product(syno_set, repeat=2):\n",
    "            name1_list.append(name1)\n",
    "            name2_list.append(name2)\n",
    "            label_list.append(1)\n",
    "        non_synonym_sets = random.sample([ x for x in syno_sets if x != syno_set], 3)\n",
    "        non_synonym_list = [phrase for phrases in non_synonym_sets for phrase in phrases]\n",
    "        for name1, name2 in itertools.product(syno_set, non_synonym_list):\n",
    "            name1_list.append(name1)\n",
    "            name2_list.append(name2)\n",
    "            label_list.append(0)    \n",
    "    return {'name1': name1_list, 'name2': name2_list, 'label': label_list}"
   ]
  },
  {
   "cell_type": "code",
   "execution_count": 22,
   "metadata": {},
   "outputs": [],
   "source": [
    "import spacy\n",
    "import string\n",
    "\n",
    "# Declare special word/character.\n",
    "START_W = '<w>'\n",
    "END_W = '</w>'\n",
    "START_S = '<s>'\n",
    "END_S = '</s>'\n",
    "DICT_SW = '</dsw>'\n",
    "EOL_TK = '»'\n",
    "UNK = '</unk>'\n",
    "PAD = '</pad>'\n",
    "RESERVE_TKS = [START_W, END_W, START_S, END_S, DICT_SW, UNK, PAD, EOL_TK]\n",
    "\n",
    "PUCT_SET = set(string.punctuation)\n",
    "STOP_WORDS = set(['an', 'the', 'and', 'of', 'in', 'on', 'at',\n",
    "                  'other', 'others', 'The', 'nos', 'NOS'])\n",
    "STOP_TOKENS = STOP_WORDS | PUCT_SET\n",
    "\n",
    "spacy_model = spacy.load(\"en_core_web_sm\")\n",
    "\n",
    "\n",
    "def preprocess_name(name):\n",
    "    parsed_result = spacy_model(name, disable=['parser', 'tagger', 'ner'])\n",
    "    tokens = [str(_) for _ in parsed_result]\n",
    "    tokens = [_ for _ in tokens if _.strip() != '' and _.lower() not in STOP_TOKENS]\n",
    "    new_name = ' '.join(tokens)\n",
    "    return name.lower() if new_name == '' else new_name.lower()"
   ]
  },
  {
   "cell_type": "code",
   "execution_count": 23,
   "metadata": {},
   "outputs": [
    {
     "output_type": "stream",
     "name": "stderr",
     "text": [
      "100%|██████████| 10032/10032 [00:00<00:00, 13661.35it/s]\n"
     ]
    }
   ],
   "source": [
    "synonym_groups = []\n",
    "filtered_group = []\n",
    "synonym_groups_raw = []\n",
    "\n",
    "for name, synonyms in tqdm(data_dict.items()):\n",
    "    group = []\n",
    "    group_raw = []\n",
    "\n",
    "    group.append(preprocess_name(name))\n",
    "    group_raw.append(name)\n",
    "    for synonym in synonyms:\n",
    "        if synonym[1] == 'EXACT':\n",
    "            group.append(preprocess_name(synonym[0]))\n",
    "            group_raw.append(synonym[0])\n",
    "        else:\n",
    "            filtered_group.append(synonym)\n",
    "    synonym_groups.append(group)\n",
    "    synonym_groups_raw.append(group_raw)\n",
    "\n",
    "df_data = pd.DataFrame.from_dict(generate_data(synonym_groups))\n",
    "df_data_exact = pd.DataFrame.from_dict(generate_data(synonym_groups_raw))"
   ]
  },
  {
   "cell_type": "code",
   "execution_count": 24,
   "metadata": {},
   "outputs": [
    {
     "output_type": "execute_result",
     "data": {
      "text/plain": [
       "        name1                                  name2  label\n",
       "0  continuant                             continuant      1\n",
       "1  continuant                 intrahepatic bile duct      0\n",
       "2  continuant            bile duct intrahepatic part      0\n",
       "3  continuant  monocarboxylic acid metabolic process      0\n",
       "4  continuant      monocarboxylate metabolic process      0"
      ],
      "text/html": "<div>\n<style scoped>\n    .dataframe tbody tr th:only-of-type {\n        vertical-align: middle;\n    }\n\n    .dataframe tbody tr th {\n        vertical-align: top;\n    }\n\n    .dataframe thead th {\n        text-align: right;\n    }\n</style>\n<table border=\"1\" class=\"dataframe\">\n  <thead>\n    <tr style=\"text-align: right;\">\n      <th></th>\n      <th>name1</th>\n      <th>name2</th>\n      <th>label</th>\n    </tr>\n  </thead>\n  <tbody>\n    <tr>\n      <th>0</th>\n      <td>continuant</td>\n      <td>continuant</td>\n      <td>1</td>\n    </tr>\n    <tr>\n      <th>1</th>\n      <td>continuant</td>\n      <td>intrahepatic bile duct</td>\n      <td>0</td>\n    </tr>\n    <tr>\n      <th>2</th>\n      <td>continuant</td>\n      <td>bile duct intrahepatic part</td>\n      <td>0</td>\n    </tr>\n    <tr>\n      <th>3</th>\n      <td>continuant</td>\n      <td>monocarboxylic acid metabolic process</td>\n      <td>0</td>\n    </tr>\n    <tr>\n      <th>4</th>\n      <td>continuant</td>\n      <td>monocarboxylate metabolic process</td>\n      <td>0</td>\n    </tr>\n  </tbody>\n</table>\n</div>"
     },
     "metadata": {},
     "execution_count": 24
    }
   ],
   "source": [
    "df_data.head()"
   ]
  },
  {
   "cell_type": "code",
   "execution_count": 24,
   "metadata": {},
   "outputs": [
    {
     "output_type": "stream",
     "name": "stdout",
     "text": [
      "[('beta', 'RELATED'), ('beta(-)', 'RELATED'), ('beta-particle', 'RELATED'), ('e', 'RELATED'), ('e(-)', 'RELATED'), ('e-', 'RELATED'), ('Elektron', 'RELATED'), ('negatron', 'RELATED'), ('entidad molecular', 'RELATED'), ('entidades moleculares', 'RELATED')]\n"
     ]
    }
   ],
   "source": [
    "print(filtered_group[:10])"
   ]
  },
  {
   "cell_type": "code",
   "execution_count": 25,
   "metadata": {},
   "outputs": [],
   "source": [
    "df_data.to_csv('pairwise_data_exact_only.csv', index = False)"
   ]
  },
  {
   "cell_type": "code",
   "execution_count": 28,
   "metadata": {},
   "outputs": [],
   "source": [
    "df_data_exact.to_csv('pairwise_rawdata_exact_only', index = False)"
   ]
  },
  {
   "cell_type": "code",
   "execution_count": 26,
   "metadata": {},
   "outputs": [
    {
     "output_type": "stream",
     "name": "stdout",
     "text": [
      "410437\n408569\n        name1                                  name2  label\n0  continuant                             continuant      1\n1  continuant                 intrahepatic bile duct      0\n2  continuant            bile duct intrahepatic part      0\n3  continuant  monocarboxylic acid metabolic process      0\n4  continuant      monocarboxylate metabolic process      0\n5  continuant         monocarboxylic acid metabolism      0\n6  continuant                           posterior_to      0\n7   occurrent                              occurrent      1\n8   occurrent                        oligodendrocyte      0\n9   occurrent                                    ols      0\n        name1                                          name2  label\n0  continuant                                     continuant      1\n1  continuant    negative regulation of leukocyte activation      0\n2  continuant        down regulation of leukocyte activation      0\n3  continuant        down-regulation of leukocyte activation      0\n4  continuant         downregulation of leukocyte activation      0\n5  continuant  negative regulation of immune cell activation      0\n6  continuant    negative regulation of leucocyte activation      0\n7  continuant                              nuclear chromatin      0\n8  continuant                                 thyroid artery      0\n9   occurrent                                      occurrent      1\n"
     ]
    }
   ],
   "source": [
    "print(len(df_data))\n",
    "print(len(df_data_exact))\n",
    "print(df_data[0:10])\n",
    "print(df_data_exact[0:10])"
   ]
  },
  {
   "cell_type": "code",
   "execution_count": 27,
   "metadata": {},
   "outputs": [
    {
     "output_type": "stream",
     "name": "stdout",
     "text": [
      "10032\n10032\n"
     ]
    },
    {
     "output_type": "error",
     "ename": "ValueError",
     "evalue": "Sample larger than population or is negative",
     "traceback": [
      "\u001b[0;31m---------------------------------------------------------------------------\u001b[0m",
      "\u001b[0;31mValueError\u001b[0m                                Traceback (most recent call last)",
      "\u001b[0;32m<ipython-input-27-cb752d68b914>\u001b[0m in \u001b[0;36m<module>\u001b[0;34m\u001b[0m\n\u001b[1;32m      1\u001b[0m \u001b[0mprint\u001b[0m\u001b[0;34m(\u001b[0m\u001b[0mlen\u001b[0m\u001b[0;34m(\u001b[0m\u001b[0msynonym_groups\u001b[0m\u001b[0;34m)\u001b[0m\u001b[0;34m)\u001b[0m\u001b[0;34m\u001b[0m\u001b[0;34m\u001b[0m\u001b[0m\n\u001b[1;32m      2\u001b[0m \u001b[0mprint\u001b[0m\u001b[0;34m(\u001b[0m\u001b[0mlen\u001b[0m\u001b[0;34m(\u001b[0m\u001b[0msynonym_groups_exact\u001b[0m\u001b[0;34m)\u001b[0m\u001b[0;34m)\u001b[0m\u001b[0;34m\u001b[0m\u001b[0;34m\u001b[0m\u001b[0m\n\u001b[0;32m----> 3\u001b[0;31m \u001b[0mprint\u001b[0m\u001b[0;34m(\u001b[0m\u001b[0mlen\u001b[0m\u001b[0;34m(\u001b[0m\u001b[0mgenerate_data\u001b[0m\u001b[0;34m(\u001b[0m\u001b[0msynonym_groups\u001b[0m\u001b[0;34m[\u001b[0m\u001b[0;36m0\u001b[0m\u001b[0;34m:\u001b[0m\u001b[0;36m1\u001b[0m\u001b[0;34m]\u001b[0m\u001b[0;34m)\u001b[0m\u001b[0;34m)\u001b[0m\u001b[0;34m)\u001b[0m\u001b[0;34m\u001b[0m\u001b[0;34m\u001b[0m\u001b[0m\n\u001b[0m\u001b[1;32m      4\u001b[0m \u001b[0mprint\u001b[0m\u001b[0;34m(\u001b[0m\u001b[0mlen\u001b[0m\u001b[0;34m(\u001b[0m\u001b[0mgenerate_data\u001b[0m\u001b[0;34m(\u001b[0m\u001b[0msynonym_groups_raw\u001b[0m\u001b[0;34m[\u001b[0m\u001b[0;36m0\u001b[0m\u001b[0;34m:\u001b[0m\u001b[0;36m1\u001b[0m\u001b[0;34m]\u001b[0m\u001b[0;34m)\u001b[0m\u001b[0;34m)\u001b[0m\u001b[0;34m)\u001b[0m\u001b[0;34m\u001b[0m\u001b[0;34m\u001b[0m\u001b[0m\n",
      "\u001b[0;32m<ipython-input-21-979bd2ce290d>\u001b[0m in \u001b[0;36mgenerate_data\u001b[0;34m(syno_sets)\u001b[0m\n\u001b[1;32m     10\u001b[0m             \u001b[0mname2_list\u001b[0m\u001b[0;34m.\u001b[0m\u001b[0mappend\u001b[0m\u001b[0;34m(\u001b[0m\u001b[0mname2\u001b[0m\u001b[0;34m)\u001b[0m\u001b[0;34m\u001b[0m\u001b[0;34m\u001b[0m\u001b[0m\n\u001b[1;32m     11\u001b[0m             \u001b[0mlabel_list\u001b[0m\u001b[0;34m.\u001b[0m\u001b[0mappend\u001b[0m\u001b[0;34m(\u001b[0m\u001b[0;36m1\u001b[0m\u001b[0;34m)\u001b[0m\u001b[0;34m\u001b[0m\u001b[0;34m\u001b[0m\u001b[0m\n\u001b[0;32m---> 12\u001b[0;31m         \u001b[0mnon_synonym_sets\u001b[0m \u001b[0;34m=\u001b[0m \u001b[0mrandom\u001b[0m\u001b[0;34m.\u001b[0m\u001b[0msample\u001b[0m\u001b[0;34m(\u001b[0m\u001b[0;34m[\u001b[0m \u001b[0mx\u001b[0m \u001b[0;32mfor\u001b[0m \u001b[0mx\u001b[0m \u001b[0;32min\u001b[0m \u001b[0msyno_sets\u001b[0m \u001b[0;32mif\u001b[0m \u001b[0mx\u001b[0m \u001b[0;34m!=\u001b[0m \u001b[0msyno_set\u001b[0m\u001b[0;34m]\u001b[0m\u001b[0;34m,\u001b[0m \u001b[0;36m3\u001b[0m\u001b[0;34m)\u001b[0m\u001b[0;34m\u001b[0m\u001b[0;34m\u001b[0m\u001b[0m\n\u001b[0m\u001b[1;32m     13\u001b[0m         \u001b[0mnon_synonym_list\u001b[0m \u001b[0;34m=\u001b[0m \u001b[0;34m[\u001b[0m\u001b[0mphrase\u001b[0m \u001b[0;32mfor\u001b[0m \u001b[0mphrases\u001b[0m \u001b[0;32min\u001b[0m \u001b[0mnon_synonym_sets\u001b[0m \u001b[0;32mfor\u001b[0m \u001b[0mphrase\u001b[0m \u001b[0;32min\u001b[0m \u001b[0mphrases\u001b[0m\u001b[0;34m]\u001b[0m\u001b[0;34m\u001b[0m\u001b[0;34m\u001b[0m\u001b[0m\n\u001b[1;32m     14\u001b[0m         \u001b[0;32mfor\u001b[0m \u001b[0mname1\u001b[0m\u001b[0;34m,\u001b[0m \u001b[0mname2\u001b[0m \u001b[0;32min\u001b[0m \u001b[0mitertools\u001b[0m\u001b[0;34m.\u001b[0m\u001b[0mproduct\u001b[0m\u001b[0;34m(\u001b[0m\u001b[0msyno_set\u001b[0m\u001b[0;34m,\u001b[0m \u001b[0mnon_synonym_list\u001b[0m\u001b[0;34m)\u001b[0m\u001b[0;34m:\u001b[0m\u001b[0;34m\u001b[0m\u001b[0;34m\u001b[0m\u001b[0m\n",
      "\u001b[0;32m~/opt/anaconda3/envs/ML/lib/python3.7/random.py\u001b[0m in \u001b[0;36msample\u001b[0;34m(self, population, k)\u001b[0m\n\u001b[1;32m    319\u001b[0m         \u001b[0mn\u001b[0m \u001b[0;34m=\u001b[0m \u001b[0mlen\u001b[0m\u001b[0;34m(\u001b[0m\u001b[0mpopulation\u001b[0m\u001b[0;34m)\u001b[0m\u001b[0;34m\u001b[0m\u001b[0;34m\u001b[0m\u001b[0m\n\u001b[1;32m    320\u001b[0m         \u001b[0;32mif\u001b[0m \u001b[0;32mnot\u001b[0m \u001b[0;36m0\u001b[0m \u001b[0;34m<=\u001b[0m \u001b[0mk\u001b[0m \u001b[0;34m<=\u001b[0m \u001b[0mn\u001b[0m\u001b[0;34m:\u001b[0m\u001b[0;34m\u001b[0m\u001b[0;34m\u001b[0m\u001b[0m\n\u001b[0;32m--> 321\u001b[0;31m             \u001b[0;32mraise\u001b[0m \u001b[0mValueError\u001b[0m\u001b[0;34m(\u001b[0m\u001b[0;34m\"Sample larger than population or is negative\"\u001b[0m\u001b[0;34m)\u001b[0m\u001b[0;34m\u001b[0m\u001b[0;34m\u001b[0m\u001b[0m\n\u001b[0m\u001b[1;32m    322\u001b[0m         \u001b[0mresult\u001b[0m \u001b[0;34m=\u001b[0m \u001b[0;34m[\u001b[0m\u001b[0;32mNone\u001b[0m\u001b[0;34m]\u001b[0m \u001b[0;34m*\u001b[0m \u001b[0mk\u001b[0m\u001b[0;34m\u001b[0m\u001b[0;34m\u001b[0m\u001b[0m\n\u001b[1;32m    323\u001b[0m         \u001b[0msetsize\u001b[0m \u001b[0;34m=\u001b[0m \u001b[0;36m21\u001b[0m        \u001b[0;31m# size of a small set minus size of an empty list\u001b[0m\u001b[0;34m\u001b[0m\u001b[0;34m\u001b[0m\u001b[0m\n",
      "\u001b[0;31mValueError\u001b[0m: Sample larger than population or is negative"
     ]
    }
   ],
   "source": [
    "print(len(synonym_groups))\n",
    "print(len(synonym_groups_exact))"
   ]
  },
  {
   "cell_type": "code",
   "execution_count": 15,
   "metadata": {},
   "outputs": [
    {
     "output_type": "stream",
     "name": "stderr",
     "text": [
      "100%|██████████| 10032/10032 [00:00<00:00, 1353097.01it/s]\n"
     ]
    }
   ],
   "source": [
    "for i in tqdm(range(len(synonym_groups))):\n",
    "    if len(synonym_groups[i]) != len(synonym_groups_exact[i]):\n",
    "        print(synonym_groups[i], '\\n')\n",
    "        print(synonym_groups_exact[i], '\\n')"
   ]
  },
  {
   "cell_type": "code",
   "execution_count": null,
   "metadata": {},
   "outputs": [],
   "source": []
  }
 ]
}