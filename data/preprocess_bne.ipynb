{
 "metadata": {
  "language_info": {
   "codemirror_mode": {
    "name": "ipython",
    "version": 3
   },
   "file_extension": ".py",
   "mimetype": "text/x-python",
   "name": "python",
   "nbconvert_exporter": "python",
   "pygments_lexer": "ipython3",
   "version": "3.7.9-final"
  },
  "orig_nbformat": 2,
  "kernelspec": {
   "name": "python3",
   "display_name": "Python 3",
   "language": "python"
  }
 },
 "nbformat": 4,
 "nbformat_minor": 2,
 "cells": [
  {
   "cell_type": "code",
   "execution_count": 13,
   "metadata": {},
   "outputs": [],
   "source": [
    "import pickle\n",
    "from tqdm import tqdm\n",
    "import pandas as pd"
   ]
  },
  {
   "cell_type": "code",
   "execution_count": 2,
   "metadata": {},
   "outputs": [],
   "source": [
    "with open('data.pickle', 'rb') as f:\n",
    "    data_dict = pickle.load(f)"
   ]
  },
  {
   "cell_type": "code",
   "execution_count": 3,
   "metadata": {},
   "outputs": [
    {
     "output_type": "stream",
     "name": "stdout",
     "text": [
      "10032\n"
     ]
    }
   ],
   "source": [
    "print(len(data_dict))"
   ]
  },
  {
   "cell_type": "code",
   "execution_count": 17,
   "metadata": {
    "tags": []
   },
   "outputs": [
    {
     "output_type": "stream",
     "name": "stdout",
     "text": [
      "phrase occurs more than once\nphrase occurs more than once\nphrase occurs more than once\nphrase occurs more than once\nphrase occurs more than once\nphrase occurs more than once\nphrase occurs more than once\nphrase occurs more than once\nphrase occurs more than once\nphrase occurs more than once\nphrase occurs more than once\nphrase occurs more than once\nphrase occurs more than once\nphrase occurs more than once\nphrase occurs more than once\nphrase occurs more than once\nphrase occurs more than once\nphrase occurs more than once\nphrase occurs more than once\nphrase occurs more than once\nphrase occurs more than once\nphrase occurs more than once\nphrase occurs more than once\nphrase occurs more than once\nphrase occurs more than once\nphrase occurs more than once\nphrase occurs more than once\nphrase occurs more than once\nphrase occurs more than once\nphrase occurs more than once\nphrase occurs more than once\nphrase occurs more than once\nphrase occurs more than once\nphrase occurs more than once\nphrase occurs more than once\nphrase occurs more than once\nphrase occurs more than once\nphrase occurs more than once\nphrase occurs more than once\nphrase occurs more than once\nphrase occurs more than once\nphrase occurs more than once\nphrase occurs more than once\nphrase occurs more than once\nphrase occurs more than once\nphrase occurs more than once\nphrase occurs more than once\nphrase occurs more than once\nphrase occurs more than once\nphrase occurs more than once\nphrase occurs more than once\nphrase occurs more than once\nphrase occurs more than once\nphrase occurs more than once\nphrase occurs more than once\nphrase occurs more than once\nphrase occurs more than once\nphrase occurs more than once\nphrase occurs more than once\nphrase occurs more than once\nphrase occurs more than once\nphrase occurs more than once\nphrase occurs more than once\nphrase occurs more than once\nphrase occurs more than once\nphrase occurs more than once\nphrase occurs more than once\nphrase occurs more than once\nphrase occurs more than once\nphrase occurs more than once\nphrase occurs more than once\nphrase occurs more than once\nphrase occurs more than once\nphrase occurs more than once\nphrase occurs more than once\nphrase occurs more than once\nphrase occurs more than once\nphrase occurs more than once\nphrase occurs more than once\nphrase occurs more than once\nphrase occurs more than once\nphrase occurs more than once\nphrase occurs more than once\nphrase occurs more than once\nphrase occurs more than once\nphrase occurs more than once\nphrase occurs more than once\nphrase occurs more than once\nphrase occurs more than once\nphrase occurs more than once\nphrase occurs more than once\nphrase occurs more than once\nphrase occurs more than once\nphrase occurs more than once\nphrase occurs more than once\nphrase occurs more than once\nphrase occurs more than once\nphrase occurs more than once\nphrase occurs more than once\nphrase occurs more than once\nphrase occurs more than once\nphrase occurs more than once\nphrase occurs more than once\nphrase occurs more than once\nphrase occurs more than once\nphrase occurs more than once\nphrase occurs more than once\nphrase occurs more than once\nphrase occurs more than once\nphrase occurs more than once\nphrase occurs more than once\nphrase occurs more than once\nphrase occurs more than once\nphrase occurs more than once\nphrase occurs more than once\nphrase occurs more than once\nphrase occurs more than once\nphrase occurs more than once\nphrase occurs more than once\nphrase occurs more than once\nphrase occurs more than once\nphrase occurs more than once\nphrase occurs more than once\nphrase occurs more than once\nphrase occurs more than once\nphrase occurs more than once\nphrase occurs more than once\nphrase occurs more than once\nphrase occurs more than once\nphrase occurs more than once\nphrase occurs more than once\nphrase occurs more than once\nphrase occurs more than once\nphrase occurs more than once\nphrase occurs more than once\nphrase occurs more than once\nphrase occurs more than once\nphrase occurs more than once\nphrase occurs more than once\nphrase occurs more than once\nphrase occurs more than once\nphrase occurs more than once\nphrase occurs more than once\nphrase occurs more than once\nphrase occurs more than once\nphrase occurs more than once\nphrase occurs more than once\nphrase occurs more than once\nphrase occurs more than once\nphrase occurs more than once\nphrase occurs more than once\nphrase occurs more than once\nphrase occurs more than once\nphrase occurs more than once\nphrase occurs more than once\nphrase occurs more than once\nphrase occurs more than once\nphrase occurs more than once\nphrase occurs more than once\nphrase occurs more than once\nphrase occurs more than once\nphrase occurs more than once\nphrase occurs more than once\nphrase occurs more than once\nphrase occurs more than once\nphrase occurs more than once\nphrase occurs more than once\nphrase occurs more than once\nphrase occurs more than once\nphrase occurs more than once\nphrase occurs more than once\nphrase occurs more than once\nphrase occurs more than once\nphrase occurs more than once\nphrase occurs more than once\nphrase occurs more than once\nphrase occurs more than once\nphrase occurs more than once\nphrase occurs more than once\nphrase occurs more than once\nphrase occurs more than once\nphrase occurs more than once\nphrase occurs more than once\nphrase occurs more than once\nphrase occurs more than once\nphrase occurs more than once\nphrase occurs more than once\nphrase occurs more than once\nphrase occurs more than once\nphrase occurs more than once\nphrase occurs more than once\nphrase occurs more than once\nphrase occurs more than once\nphrase occurs more than once\nphrase occurs more than once\nphrase occurs more than once\nphrase occurs more than once\nphrase occurs more than once\nphrase occurs more than once\nphrase occurs more than once\nphrase occurs more than once\nphrase occurs more than once\nphrase occurs more than once\nphrase occurs more than once\nphrase occurs more than once\nphrase occurs more than once\nphrase occurs more than once\nphrase occurs more than once\nphrase occurs more than once\nphrase occurs more than once\nphrase occurs more than once\nphrase occurs more than once\nphrase occurs more than once\nphrase occurs more than once\nphrase occurs more than once\nphrase occurs more than once\nphrase occurs more than once\nphrase occurs more than once\nphrase occurs more than once\nphrase occurs more than once\nphrase occurs more than once\nphrase occurs more than once\nphrase occurs more than once\nphrase occurs more than once\nphrase occurs more than once\nphrase occurs more than once\nphrase occurs more than once\nphrase occurs more than once\nphrase occurs more than once\nphrase occurs more than once\nphrase occurs more than once\nphrase occurs more than once\nphrase occurs more than once\nphrase occurs more than once\nphrase occurs more than once\nphrase occurs more than once\nphrase occurs more than once\nphrase occurs more than once\nphrase occurs more than once\nphrase occurs more than once\nphrase occurs more than once\nphrase occurs more than once\nphrase occurs more than once\nphrase occurs more than once\nphrase occurs more than once\nphrase occurs more than once\nphrase occurs more than once\nphrase occurs more than once\nphrase occurs more than once\nphrase occurs more than once\nphrase occurs more than once\nphrase occurs more than once\nphrase occurs more than once\nphrase occurs more than once\nphrase occurs more than once\nphrase occurs more than once\nphrase occurs more than once\nphrase occurs more than once\nphrase occurs more than once\nphrase occurs more than once\nphrase occurs more than once\nphrase occurs more than once\nphrase occurs more than once\nphrase occurs more than once\nphrase occurs more than once\nphrase occurs more than once\nphrase occurs more than once\nphrase occurs more than once\nphrase occurs more than once\nphrase occurs more than once\nphrase occurs more than once\nphrase occurs more than once\nphrase occurs more than once\nphrase occurs more than once\nphrase occurs more than once\nphrase occurs more than once\nphrase occurs more than once\nphrase occurs more than once\nphrase occurs more than once\nphrase occurs more than once\nphrase occurs more than once\nphrase occurs more than once\nphrase occurs more than once\nphrase occurs more than once\nphrase occurs more than once\nphrase occurs more than once\nphrase occurs more than once\nphrase occurs more than once\nphrase occurs more than once\nphrase occurs more than once\nphrase occurs more than once\nphrase occurs more than once\nphrase occurs more than once\nphrase occurs more than once\nphrase occurs more than once\nphrase occurs more than once\nphrase occurs more than once\nphrase occurs more than once\nphrase occurs more than once\nphrase occurs more than once\nphrase occurs more than once\nphrase occurs more than once\nphrase occurs more than once\nphrase occurs more than once\nphrase occurs more than once\nphrase occurs more than once\nphrase occurs more than once\nphrase occurs more than once\nphrase occurs more than once\nphrase occurs more than once\nphrase occurs more than once\nphrase occurs more than once\nphrase occurs more than once\nphrase occurs more than once\nphrase occurs more than once\nphrase occurs more than once\nphrase occurs more than once\nphrase occurs more than once\nphrase occurs more than once\nphrase occurs more than once\nphrase occurs more than once\nphrase occurs more than once\nphrase occurs more than once\nphrase occurs more than once\nphrase occurs more than once\nphrase occurs more than once\nphrase occurs more than once\nphrase occurs more than once\nphrase occurs more than once\nphrase occurs more than once\nphrase occurs more than once\nphrase occurs more than once\nphrase occurs more than once\nphrase occurs more than once\nphrase occurs more than once\nphrase occurs more than once\nphrase occurs more than once\nphrase occurs more than once\nphrase occurs more than once\nphrase occurs more than once\nphrase occurs more than once\nphrase occurs more than once\nphrase occurs more than once\nphrase occurs more than once\nphrase occurs more than once\nphrase occurs more than once\nphrase occurs more than once\nphrase occurs more than once\nphrase occurs more than once\nphrase occurs more than once\nphrase occurs more than once\nphrase occurs more than once\nphrase occurs more than once\nphrase occurs more than once\nphrase occurs more than once\nphrase occurs more than once\nphrase occurs more than once\nphrase occurs more than once\nphrase occurs more than once\nphrase occurs more than once\nphrase occurs more than once\nphrase occurs more than once\nphrase occurs more than once\nphrase occurs more than once\nphrase occurs more than once\nphrase occurs more than once\nphrase occurs more than once\nphrase occurs more than once\nphrase occurs more than once\nphrase occurs more than once\nphrase occurs more than once\nphrase occurs more than once\nphrase occurs more than once\nphrase occurs more than once\nphrase occurs more than once\nphrase occurs more than once\nphrase occurs more than once\nphrase occurs more than once\nphrase occurs more than once\nphrase occurs more than once\nphrase occurs more than once\nphrase occurs more than once\nphrase occurs more than once\nphrase occurs more than once\nphrase occurs more than once\nphrase occurs more than once\nphrase occurs more than once\nphrase occurs more than once\nphrase occurs more than once\nphrase occurs more than once\nphrase occurs more than once\nphrase occurs more than once\nphrase occurs more than once\nphrase occurs more than once\nphrase occurs more than once\nphrase occurs more than once\nphrase occurs more than once\nphrase occurs more than once\nphrase occurs more than once\nphrase occurs more than once\nphrase occurs more than once\nphrase occurs more than once\nphrase occurs more than once\nphrase occurs more than once\nphrase occurs more than once\nphrase occurs more than once\nphrase occurs more than once\nphrase occurs more than once\nphrase occurs more than once\nphrase occurs more than once\nphrase occurs more than once\nphrase occurs more than once\nphrase occurs more than once\nphrase occurs more than once\nphrase occurs more than once\nphrase occurs more than once\nphrase occurs more than once\nphrase occurs more than once\nphrase occurs more than once\nphrase occurs more than once\nphrase occurs more than once\nphrase occurs more than once\nphrase occurs more than once\nphrase occurs more than once\nphrase occurs more than once\nphrase occurs more than once\nphrase occurs more than once\nphrase occurs more than once\nphrase occurs more than once\nphrase occurs more than once\nphrase occurs more than once\nphrase occurs more than once\nphrase occurs more than once\nphrase occurs more than once\nphrase occurs more than once\nphrase occurs more than once\nphrase occurs more than once\nphrase occurs more than once\nphrase occurs more than once\nphrase occurs more than once\nphrase occurs more than once\nphrase occurs more than once\nphrase occurs more than once\nphrase occurs more than once\nphrase occurs more than once\nphrase occurs more than once\nphrase occurs more than once\nphrase occurs more than once\nphrase occurs more than once\nphrase occurs more than once\nphrase occurs more than once\nphrase occurs more than once\nphrase occurs more than once\nphrase occurs more than once\nphrase occurs more than once\nphrase occurs more than once\nphrase occurs more than once\nphrase occurs more than once\nphrase occurs more than once\nphrase occurs more than once\nphrase occurs more than once\nphrase occurs more than once\nphrase occurs more than once\nphrase occurs more than once\nphrase occurs more than once\nphrase occurs more than once\nphrase occurs more than once\nphrase occurs more than once\nphrase occurs more than once\nphrase occurs more than once\nphrase occurs more than once\nphrase occurs more than once\nphrase occurs more than once\nphrase occurs more than once\nphrase occurs more than once\nphrase occurs more than once\nphrase occurs more than once\nphrase occurs more than once\nphrase occurs more than once\nphrase occurs more than once\nphrase occurs more than once\nphrase occurs more than once\nphrase occurs more than once\nphrase occurs more than once\nphrase occurs more than once\nphrase occurs more than once\nphrase occurs more than once\nphrase occurs more than once\nphrase occurs more than once\nphrase occurs more than once\nphrase occurs more than once\nphrase occurs more than once\nphrase occurs more than once\nphrase occurs more than once\nphrase occurs more than once\nphrase occurs more than once\nphrase occurs more than once\nphrase occurs more than once\nphrase occurs more than once\nphrase occurs more than once\nphrase occurs more than once\nphrase occurs more than once\nphrase occurs more than once\nphrase occurs more than once\nphrase occurs more than once\nphrase occurs more than once\nphrase occurs more than once\nphrase occurs more than once\nphrase occurs more than once\nphrase occurs more than once\nphrase occurs more than once\nphrase occurs more than once\nphrase occurs more than once\nphrase occurs more than once\nphrase occurs more than once\nphrase occurs more than once\nphrase occurs more than once\nphrase occurs more than once\nphrase occurs more than once\nphrase occurs more than once\nphrase occurs more than once\nphrase occurs more than once\nphrase occurs more than once\nphrase occurs more than once\nphrase occurs more than once\nphrase occurs more than once\nphrase occurs more than once\nphrase occurs more than once\nphrase occurs more than once\nphrase occurs more than once\nphrase occurs more than once\nphrase occurs more than once\nphrase occurs more than once\nphrase occurs more than once\nphrase occurs more than once\nphrase occurs more than once\nphrase occurs more than once\nphrase occurs more than once\nphrase occurs more than once\nphrase occurs more than once\nphrase occurs more than once\nphrase occurs more than once\nphrase occurs more than once\nphrase occurs more than once\nphrase occurs more than once\nphrase occurs more than once\nphrase occurs more than once\nphrase occurs more than once\nphrase occurs more than once\nphrase occurs more than once\nphrase occurs more than once\nphrase occurs more than once\nphrase occurs more than once\nphrase occurs more than once\nphrase occurs more than once\nphrase occurs more than once\nphrase occurs more than once\nphrase occurs more than once\nphrase occurs more than once\nphrase occurs more than once\nphrase occurs more than once\nphrase occurs more than once\nphrase occurs more than once\nphrase occurs more than once\nphrase occurs more than once\nphrase occurs more than once\nphrase occurs more than once\nphrase occurs more than once\nphrase occurs more than once\nphrase occurs more than once\nphrase occurs more than once\nphrase occurs more than once\nphrase occurs more than once\nphrase occurs more than once\nphrase occurs more than once\nphrase occurs more than once\nphrase occurs more than once\nphrase occurs more than once\nphrase occurs more than once\nphrase occurs more than once\nphrase occurs more than once\nphrase occurs more than once\nphrase occurs more than once\nphrase occurs more than once\nphrase occurs more than once\nphrase occurs more than once\nphrase occurs more than once\nphrase occurs more than once\nphrase occurs more than once\nphrase occurs more than once\nphrase occurs more than once\nphrase occurs more than once\nphrase occurs more than once\nphrase occurs more than once\nphrase occurs more than once\nphrase occurs more than once\nphrase occurs more than once\nphrase occurs more than once\nphrase occurs more than once\nphrase occurs more than once\nphrase occurs more than once\nphrase occurs more than once\nphrase occurs more than once\nphrase occurs more than once\nphrase occurs more than once\nphrase occurs more than once\nphrase occurs more than once\nphrase occurs more than once\nphrase occurs more than once\nphrase occurs more than once\nphrase occurs more than once\nphrase occurs more than once\nphrase occurs more than once\nphrase occurs more than once\nphrase occurs more than once\nphrase occurs more than once\nphrase occurs more than once\nphrase occurs more than once\n"
     ]
    }
   ],
   "source": [
    "phrase_set = set()\n",
    "for name, synonyms in data_dict.items():\n",
    "    if name in phrase_set:\n",
    "        print('phrase occurs more than once')\n",
    "    phrase_set.add(name)\n",
    "    for synonym in synonyms:\n",
    "        if synonym[0] in phrase_set:\n",
    "            print('phrase occurs more than once')\n",
    "        phrase_set.add(synonym[0])\n",
    "phrase_list = list(phrase_set)\n",
    "phrase2id = {}\n",
    "for i, phrase in enumerate(phrase_list):\n",
    "    phrase2id[phrase] = i\n",
    "\n",
    "    "
   ]
  },
  {
   "cell_type": "code",
   "execution_count": 18,
   "metadata": {},
   "outputs": [],
   "source": [
    "with open('phrase2id.pickle', 'wb') as f:\n",
    "    pickle.dump(phrase2id, f)"
   ]
  },
  {
   "cell_type": "code",
   "execution_count": 19,
   "metadata": {},
   "outputs": [],
   "source": [
    "with open('all_phrases.txt', 'w') as f:\n",
    "    for phrase in phrase_list:\n",
    "        f.write('{}\\n'.format(phrase))"
   ]
  },
  {
   "cell_type": "code",
   "execution_count": 20,
   "metadata": {},
   "outputs": [
    {
     "output_type": "stream",
     "name": "stdout",
     "text": [
      "C-type lectin superfamily member 12\n"
     ]
    }
   ],
   "source": [
    "print(phrase_list[0])"
   ]
  },
  {
   "cell_type": "code",
   "execution_count": 14,
   "metadata": {},
   "outputs": [],
   "source": [
    "import itertools\n",
    "import random\n",
    "def generate_data(syno_sets):\n",
    "    name1_list = []\n",
    "    name2_list = []\n",
    "    label_list = []\n",
    "    for syno_set in syno_sets:\n",
    "        for name1, name2 in itertools.product(syno_set, repeat=2):\n",
    "            name1_list.append(name1)\n",
    "            name2_list.append(name2)\n",
    "            label_list.append(1)\n",
    "        non_synonym_sets = random.sample([ x for x in syno_sets if x != syno_set], 3)\n",
    "        non_synonym_list = [phrase for phrases in non_synonym_sets for phrase in phrases]\n",
    "        for name1, name2 in itertools.product(syno_set, non_synonym_list):\n",
    "            name1_list.append(name1)\n",
    "            name2_list.append(name2)\n",
    "            label_list.append(0)    \n",
    "    return {'name1': name1_list, 'name2': name2_list, 'label': label_list}"
   ]
  },
  {
   "cell_type": "code",
   "execution_count": 15,
   "metadata": {},
   "outputs": [
    {
     "output_type": "stream",
     "name": "stderr",
     "text": [
      "100%|██████████| 10032/10032 [00:00<00:00, 135835.62it/s]\n"
     ]
    }
   ],
   "source": [
    "synonym_groups = []\n",
    "for name, synonyms in tqdm(data_dict.items()):\n",
    "    group = [synonym[0] for synonym in synonyms]\n",
    "    group.append(name)\n",
    "    synonym_groups.append(group)\n",
    "\n",
    "df_data = pd.DataFrame.from_dict(generate_data(synonym_groups))"
   ]
  },
  {
   "cell_type": "code",
   "execution_count": 17,
   "metadata": {},
   "outputs": [],
   "source": [
    "df_data.to_csv('pairwise_rawdata.csv', index = False)"
   ]
  },
  {
   "cell_type": "code",
   "execution_count": null,
   "metadata": {},
   "outputs": [],
   "source": []
  }
 ]
}