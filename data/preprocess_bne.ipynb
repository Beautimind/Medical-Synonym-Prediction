{
 "metadata": {
  "language_info": {
   "codemirror_mode": {
    "name": "ipython",
    "version": 3
   },
   "file_extension": ".py",
   "mimetype": "text/x-python",
   "name": "python",
   "nbconvert_exporter": "python",
   "pygments_lexer": "ipython3",
   "version": "3.7.9-final"
  },
  "orig_nbformat": 2,
  "kernelspec": {
   "name": "python3",
   "display_name": "Python 3",
   "language": "python"
  }
 },
 "nbformat": 4,
 "nbformat_minor": 2,
 "cells": [
  {
   "cell_type": "code",
   "execution_count": 1,
   "metadata": {},
   "outputs": [],
   "source": [
    "import pickle"
   ]
  },
  {
   "cell_type": "code",
   "execution_count": 5,
   "metadata": {},
   "outputs": [],
   "source": [
    "with open('data.pickle', 'rb') as f:\n",
    "    data_dict = pickle.load(f)"
   ]
  },
  {
   "cell_type": "code",
   "execution_count": 6,
   "metadata": {},
   "outputs": [
    {
     "output_type": "stream",
     "name": "stdout",
     "text": [
      "10032\n"
     ]
    }
   ],
   "source": [
    "print(len(data_dict))"
   ]
  },
  {
   "cell_type": "code",
   "execution_count": 17,
   "metadata": {
    "tags": []
   },
   "outputs": [
    {
     "output_type": "stream",
     "name": "stdout",
     "text": [
      "phrase occurs more than once\nphrase occurs more than once\nphrase occurs more than once\nphrase occurs more than once\nphrase occurs more than once\nphrase occurs more than once\nphrase occurs more than once\nphrase occurs more than once\nphrase occurs more than once\nphrase occurs more than once\nphrase occurs more than once\nphrase occurs more than once\nphrase occurs more than once\nphrase occurs more than once\nphrase occurs more than once\nphrase occurs more than once\nphrase occurs more than once\nphrase occurs more than once\nphrase occurs more than once\nphrase occurs more than once\nphrase occurs more than once\nphrase occurs more than once\nphrase occurs more than once\nphrase occurs more than once\nphrase occurs more than once\nphrase occurs more than once\nphrase occurs more than once\nphrase occurs more than once\nphrase occurs more than once\nphrase occurs more than once\nphrase occurs more than once\nphrase occurs more than once\nphrase occurs more than once\nphrase occurs more than once\nphrase occurs more than once\nphrase occurs more than once\nphrase occurs more than once\nphrase occurs more than once\nphrase occurs more than once\nphrase occurs more than once\nphrase occurs more than once\nphrase occurs more than once\nphrase occurs more than once\nphrase occurs more than once\nphrase occurs more than once\nphrase occurs more than once\nphrase occurs more than once\nphrase occurs more than once\nphrase occurs more than once\nphrase occurs more than once\nphrase occurs more than once\nphrase occurs more than once\nphrase occurs more than once\nphrase occurs more than once\nphrase occurs more than once\nphrase occurs more than once\nphrase occurs more than once\nphrase occurs more than once\nphrase occurs more than once\nphrase occurs more than once\nphrase occurs more than once\nphrase occurs more than once\nphrase occurs more than once\nphrase occurs more than once\nphrase occurs more than once\nphrase occurs more than once\nphrase occurs more than once\nphrase occurs more than once\nphrase occurs more than once\nphrase occurs more than once\nphrase occurs more than once\nphrase occurs more than once\nphrase occurs more than once\nphrase occurs more than once\nphrase occurs more than once\nphrase occurs more than once\nphrase occurs more than once\nphrase occurs more than once\nphrase occurs more than once\nphrase occurs more than once\nphrase occurs more than once\nphrase occurs more than once\nphrase occurs more than once\nphrase occurs more than once\nphrase occurs more than once\nphrase occurs more than once\nphrase occurs more than once\nphrase occurs more than once\nphrase occurs more than once\nphrase occurs more than once\nphrase occurs more than once\nphrase occurs more than once\nphrase occurs more than once\nphrase occurs more than once\nphrase occurs more than once\nphrase occurs more than once\nphrase occurs more than once\nphrase occurs more than once\nphrase occurs more than once\nphrase occurs more than once\nphrase occurs more than once\nphrase occurs more than once\nphrase occurs more than once\nphrase occurs more than once\nphrase occurs more than once\nphrase occurs more than once\nphrase occurs more than once\nphrase occurs more than once\nphrase occurs more than once\nphrase occurs more than once\nphrase occurs more than once\nphrase occurs more than once\nphrase occurs more than once\nphrase occurs more than once\nphrase occurs more than once\nphrase occurs more than once\nphrase occurs more than once\nphrase occurs more than once\nphrase occurs more than once\nphrase occurs more than once\nphrase occurs more than once\nphrase occurs more than once\nphrase occurs more than once\nphrase occurs more than once\nphrase occurs more than once\nphrase occurs more than once\nphrase occurs more than once\nphrase occurs more than once\nphrase occurs more than once\nphrase occurs more than once\nphrase occurs more than once\nphrase occurs more than once\nphrase occurs more than once\nphrase occurs more than once\nphrase occurs more than once\nphrase occurs more than once\nphrase occurs more than once\nphrase occurs more than once\nphrase occurs more than once\nphrase occurs more than once\nphrase occurs more than once\nphrase occurs more than once\nphrase occurs more than once\nphrase occurs more than once\nphrase occurs more than once\nphrase occurs more than once\nphrase occurs more than once\nphrase occurs more than once\nphrase occurs more than once\nphrase occurs more than once\nphrase occurs more than once\nphrase occurs more than once\nphrase occurs more than once\nphrase occurs more than once\nphrase occurs more than once\nphrase occurs more than once\nphrase occurs more than once\nphrase occurs more than once\nphrase occurs more than once\nphrase occurs more than once\nphrase occurs more than once\nphrase occurs more than once\nphrase occurs more than once\nphrase occurs more than once\nphrase occurs more than once\nphrase occurs more than once\nphrase occurs more than once\nphrase occurs more than once\nphrase occurs more than once\nphrase occurs more than once\nphrase occurs more than once\nphrase occurs more than once\nphrase occurs more than once\nphrase occurs more than once\nphrase occurs more than once\nphrase occurs more than once\nphrase occurs more than once\nphrase occurs more than once\nphrase occurs more than once\nphrase occurs more than once\nphrase occurs more than once\nphrase occurs more than once\nphrase occurs more than once\nphrase occurs more than once\nphrase occurs more than once\nphrase occurs more than once\nphrase occurs more than once\nphrase occurs more than once\nphrase occurs more than once\nphrase occurs more than once\nphrase occurs more than once\nphrase occurs more than once\nphrase occurs more than once\nphrase occurs more than once\nphrase occurs more than once\nphrase occurs more than once\nphrase occurs more than once\nphrase occurs more than once\nphrase occurs more than once\nphrase occurs more than once\nphrase occurs more than once\nphrase occurs more than once\nphrase occurs more than once\nphrase occurs more than once\nphrase occurs more than once\nphrase occurs more than once\nphrase occurs more than once\nphrase occurs more than once\nphrase occurs more than once\nphrase occurs more than once\nphrase occurs more than once\nphrase occurs more than once\nphrase occurs more than once\nphrase occurs more than once\nphrase occurs more than once\nphrase occurs more than once\nphrase occurs more than once\nphrase occurs more than once\nphrase occurs more than once\nphrase occurs more than once\nphrase occurs more than once\nphrase occurs more than once\nphrase occurs more than once\nphrase occurs more than once\nphrase occurs more than once\nphrase occurs more than once\nphrase occurs more than once\nphrase occurs more than once\nphrase occurs more than once\nphrase occurs more than once\nphrase occurs more than once\nphrase occurs more than once\nphrase occurs more than once\nphrase occurs more than once\nphrase occurs more than once\nphrase occurs more than once\nphrase occurs more than once\nphrase occurs more than once\nphrase occurs more than once\nphrase occurs more than once\nphrase occurs more than once\nphrase occurs more than once\nphrase occurs more than once\nphrase occurs more than once\nphrase occurs more than once\nphrase occurs more than once\nphrase occurs more than once\nphrase occurs more than once\nphrase occurs more than once\nphrase occurs more than once\nphrase occurs more than once\nphrase occurs more than once\nphrase occurs more than once\nphrase occurs more than once\nphrase occurs more than once\nphrase occurs more than once\nphrase occurs more than once\nphrase occurs more than once\nphrase occurs more than once\nphrase occurs more than once\nphrase occurs more than once\nphrase occurs more than once\nphrase occurs more than once\nphrase occurs more than once\nphrase occurs more than once\nphrase occurs more than once\nphrase occurs more than once\nphrase occurs more than once\nphrase occurs more than once\nphrase occurs more than once\nphrase occurs more than once\nphrase occurs more than once\nphrase occurs more than once\nphrase occurs more than once\nphrase occurs more than once\nphrase occurs more than once\nphrase occurs more than once\nphrase occurs more than once\nphrase occurs more than once\nphrase occurs more than once\nphrase occurs more than once\nphrase occurs more than once\nphrase occurs more than once\nphrase occurs more than once\nphrase occurs more than once\nphrase occurs more than once\nphrase occurs more than once\nphrase occurs more than once\nphrase occurs more than once\nphrase occurs more than once\nphrase occurs more than once\nphrase occurs more than once\nphrase occurs more than once\nphrase occurs more than once\nphrase occurs more than once\nphrase occurs more than once\nphrase occurs more than once\nphrase occurs more than once\nphrase occurs more than once\nphrase occurs more than once\nphrase occurs more than once\nphrase occurs more than once\nphrase occurs more than once\nphrase occurs more than once\nphrase occurs more than once\nphrase occurs more than once\nphrase occurs more than once\nphrase occurs more than once\nphrase occurs more than once\nphrase occurs more than once\nphrase occurs more than once\nphrase occurs more than once\nphrase occurs more than once\nphrase occurs more than once\nphrase occurs more than once\nphrase occurs more than once\nphrase occurs more than once\nphrase occurs more than once\nphrase occurs more than once\nphrase occurs more than once\nphrase occurs more than once\nphrase occurs more than once\nphrase occurs more than once\nphrase occurs more than once\nphrase occurs more than once\nphrase occurs more than once\nphrase occurs more than once\nphrase occurs more than once\nphrase occurs more than once\nphrase occurs more than once\nphrase occurs more than once\nphrase occurs more than once\nphrase occurs more than once\nphrase occurs more than once\nphrase occurs more than once\nphrase occurs more than once\nphrase occurs more than once\nphrase occurs more than once\nphrase occurs more than once\nphrase occurs more than once\nphrase occurs more than once\nphrase occurs more than once\nphrase occurs more than once\nphrase occurs more than once\nphrase occurs more than once\nphrase occurs more than once\nphrase occurs more than once\nphrase occurs more than once\nphrase occurs more than once\nphrase occurs more than once\nphrase occurs more than once\nphrase occurs more than once\nphrase occurs more than once\nphrase occurs more than once\nphrase occurs more than once\nphrase occurs more than once\nphrase occurs more than once\nphrase occurs more than once\nphrase occurs more than once\nphrase occurs more than once\nphrase occurs more than once\nphrase occurs more than once\nphrase occurs more than once\nphrase occurs more than once\nphrase occurs more than once\nphrase occurs more than once\nphrase occurs more than once\nphrase occurs more than once\nphrase occurs more than once\nphrase occurs more than once\nphrase occurs more than once\nphrase occurs more than once\nphrase occurs more than once\nphrase occurs more than once\nphrase occurs more than once\nphrase occurs more than once\nphrase occurs more than once\nphrase occurs more than once\nphrase occurs more than once\nphrase occurs more than once\nphrase occurs more than once\nphrase occurs more than once\nphrase occurs more than once\nphrase occurs more than once\nphrase occurs more than once\nphrase occurs more than once\nphrase occurs more than once\nphrase occurs more than once\nphrase occurs more than once\nphrase occurs more than once\nphrase occurs more than once\nphrase occurs more than once\nphrase occurs more than once\nphrase occurs more than once\nphrase occurs more than once\nphrase occurs more than once\nphrase occurs more than once\nphrase occurs more than once\nphrase occurs more than once\nphrase occurs more than once\nphrase occurs more than once\nphrase occurs more than once\nphrase occurs more than once\nphrase occurs more than once\nphrase occurs more than once\nphrase occurs more than once\nphrase occurs more than once\nphrase occurs more than once\nphrase occurs more than once\nphrase occurs more than once\nphrase occurs more than once\nphrase occurs more than once\nphrase occurs more than once\nphrase occurs more than once\nphrase occurs more than once\nphrase occurs more than once\nphrase occurs more than once\nphrase occurs more than once\nphrase occurs more than once\nphrase occurs more than once\nphrase occurs more than once\nphrase occurs more than once\nphrase occurs more than once\nphrase occurs more than once\nphrase occurs more than once\nphrase occurs more than once\nphrase occurs more than once\nphrase occurs more than once\nphrase occurs more than once\nphrase occurs more than once\nphrase occurs more than once\nphrase occurs more than once\nphrase occurs more than once\nphrase occurs more than once\nphrase occurs more than once\nphrase occurs more than once\nphrase occurs more than once\nphrase occurs more than once\nphrase occurs more than once\nphrase occurs more than once\nphrase occurs more than once\nphrase occurs more than once\nphrase occurs more than once\nphrase occurs more than once\nphrase occurs more than once\nphrase occurs more than once\nphrase occurs more than once\nphrase occurs more than once\nphrase occurs more than once\nphrase occurs more than once\nphrase occurs more than once\nphrase occurs more than once\nphrase occurs more than once\nphrase occurs more than once\nphrase occurs more than once\nphrase occurs more than once\nphrase occurs more than once\nphrase occurs more than once\nphrase occurs more than once\nphrase occurs more than once\nphrase occurs more than once\nphrase occurs more than once\nphrase occurs more than once\nphrase occurs more than once\nphrase occurs more than once\nphrase occurs more than once\nphrase occurs more than once\nphrase occurs more than once\nphrase occurs more than once\nphrase occurs more than once\nphrase occurs more than once\nphrase occurs more than once\nphrase occurs more than once\nphrase occurs more than once\nphrase occurs more than once\nphrase occurs more than once\nphrase occurs more than once\nphrase occurs more than once\nphrase occurs more than once\nphrase occurs more than once\nphrase occurs more than once\nphrase occurs more than once\nphrase occurs more than once\nphrase occurs more than once\nphrase occurs more than once\nphrase occurs more than once\nphrase occurs more than once\nphrase occurs more than once\nphrase occurs more than once\nphrase occurs more than once\nphrase occurs more than once\nphrase occurs more than once\nphrase occurs more than once\nphrase occurs more than once\nphrase occurs more than once\nphrase occurs more than once\nphrase occurs more than once\nphrase occurs more than once\nphrase occurs more than once\nphrase occurs more than once\nphrase occurs more than once\nphrase occurs more than once\nphrase occurs more than once\nphrase occurs more than once\nphrase occurs more than once\nphrase occurs more than once\nphrase occurs more than once\nphrase occurs more than once\nphrase occurs more than once\nphrase occurs more than once\nphrase occurs more than once\nphrase occurs more than once\nphrase occurs more than once\nphrase occurs more than once\nphrase occurs more than once\nphrase occurs more than once\nphrase occurs more than once\nphrase occurs more than once\nphrase occurs more than once\nphrase occurs more than once\nphrase occurs more than once\nphrase occurs more than once\nphrase occurs more than once\nphrase occurs more than once\nphrase occurs more than once\nphrase occurs more than once\nphrase occurs more than once\nphrase occurs more than once\nphrase occurs more than once\nphrase occurs more than once\nphrase occurs more than once\nphrase occurs more than once\nphrase occurs more than once\nphrase occurs more than once\nphrase occurs more than once\nphrase occurs more than once\nphrase occurs more than once\nphrase occurs more than once\nphrase occurs more than once\nphrase occurs more than once\nphrase occurs more than once\nphrase occurs more than once\nphrase occurs more than once\nphrase occurs more than once\nphrase occurs more than once\nphrase occurs more than once\nphrase occurs more than once\nphrase occurs more than once\nphrase occurs more than once\nphrase occurs more than once\nphrase occurs more than once\nphrase occurs more than once\nphrase occurs more than once\nphrase occurs more than once\nphrase occurs more than once\nphrase occurs more than once\nphrase occurs more than once\nphrase occurs more than once\nphrase occurs more than once\nphrase occurs more than once\nphrase occurs more than once\nphrase occurs more than once\nphrase occurs more than once\nphrase occurs more than once\nphrase occurs more than once\nphrase occurs more than once\nphrase occurs more than once\nphrase occurs more than once\nphrase occurs more than once\nphrase occurs more than once\nphrase occurs more than once\nphrase occurs more than once\nphrase occurs more than once\nphrase occurs more than once\nphrase occurs more than once\nphrase occurs more than once\nphrase occurs more than once\nphrase occurs more than once\nphrase occurs more than once\nphrase occurs more than once\nphrase occurs more than once\nphrase occurs more than once\nphrase occurs more than once\nphrase occurs more than once\nphrase occurs more than once\nphrase occurs more than once\nphrase occurs more than once\nphrase occurs more than once\nphrase occurs more than once\nphrase occurs more than once\nphrase occurs more than once\nphrase occurs more than once\nphrase occurs more than once\nphrase occurs more than once\nphrase occurs more than once\nphrase occurs more than once\nphrase occurs more than once\nphrase occurs more than once\nphrase occurs more than once\nphrase occurs more than once\nphrase occurs more than once\nphrase occurs more than once\nphrase occurs more than once\nphrase occurs more than once\nphrase occurs more than once\nphrase occurs more than once\nphrase occurs more than once\nphrase occurs more than once\nphrase occurs more than once\nphrase occurs more than once\nphrase occurs more than once\nphrase occurs more than once\nphrase occurs more than once\nphrase occurs more than once\nphrase occurs more than once\nphrase occurs more than once\nphrase occurs more than once\nphrase occurs more than once\n"
     ]
    }
   ],
   "source": [
    "phrase_set = set()\n",
    "for name, synonyms in data_dict.items():\n",
    "    if name in phrase_set:\n",
    "        print('phrase occurs more than once')\n",
    "    phrase_set.add(name)\n",
    "    for synonym in synonyms:\n",
    "        if synonym[0] in phrase_set:\n",
    "            print('phrase occurs more than once')\n",
    "        phrase_set.add(synonym[0])\n",
    "phrase_list = list(phrase_set)\n",
    "phrase2id = {}\n",
    "for i, phrase in enumerate(phrase_list):\n",
    "    phrase2id[phrase] = i\n",
    "\n",
    "    "
   ]
  },
  {
   "cell_type": "code",
   "execution_count": 18,
   "metadata": {},
   "outputs": [],
   "source": [
    "with open('phrase2id.pickle', 'wb') as f:\n",
    "    pickle.dump(phrase2id, f)"
   ]
  },
  {
   "cell_type": "code",
   "execution_count": 19,
   "metadata": {},
   "outputs": [],
   "source": [
    "with open('all_phrases.txt', 'w') as f:\n",
    "    for phrase in phrase_list:\n",
    "        f.write('{}\\n'.format(phrase))"
   ]
  },
  {
   "cell_type": "code",
   "execution_count": 20,
   "metadata": {},
   "outputs": [
    {
     "output_type": "stream",
     "name": "stdout",
     "text": [
      "C-type lectin superfamily member 12\n"
     ]
    }
   ],
   "source": [
    "print(phrase_list[0])"
   ]
  },
  {
   "cell_type": "code",
   "execution_count": null,
   "metadata": {},
   "outputs": [],
   "source": []
  }
 ]
}